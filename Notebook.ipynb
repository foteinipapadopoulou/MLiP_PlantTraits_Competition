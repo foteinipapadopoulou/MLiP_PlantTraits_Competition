{
 "cells": [
  {
   "cell_type": "markdown",
   "id": "6fb8d075",
   "metadata": {
    "papermill": {
     "duration": 0.007499,
     "end_time": "2024-06-05T20:34:58.584698",
     "exception": false,
     "start_time": "2024-06-05T20:34:58.577199",
     "status": "completed"
    },
    "tags": []
   },
   "source": [
    "# Train image models Notebook"
   ]
  },
  {
   "cell_type": "markdown",
   "id": "338de41e",
   "metadata": {
    "papermill": {
     "duration": 0.006594,
     "end_time": "2024-06-05T20:34:58.598518",
     "exception": false,
     "start_time": "2024-06-05T20:34:58.591924",
     "status": "completed"
    },
    "tags": []
   },
   "source": [
    "- Notebook modified from https://www.kaggle.com/code/markwijkhuizen/planttraits2024-eda-training-pub.\n",
    "- Training only, EDA part not included.\n",
    "- Image model only, tabular data not used."
   ]
  },
  {
   "cell_type": "code",
   "execution_count": 1,
   "id": "f7ac647f",
   "metadata": {
    "execution": {
     "iopub.execute_input": "2024-06-05T20:34:58.613585Z",
     "iopub.status.busy": "2024-06-05T20:34:58.613250Z",
     "iopub.status.idle": "2024-06-05T20:35:11.643792Z",
     "shell.execute_reply": "2024-06-05T20:35:11.642766Z"
    },
    "papermill": {
     "duration": 13.040972,
     "end_time": "2024-06-05T20:35:11.646264",
     "exception": false,
     "start_time": "2024-06-05T20:34:58.605292",
     "status": "completed"
    },
    "tags": []
   },
   "outputs": [],
   "source": [
    "import numpy as np\n",
    "import pandas as pd\n",
    "import matplotlib.pyplot as plt\n",
    "import imageio.v3 as imageio\n",
    "import albumentations as A\n",
    "\n",
    "from albumentations.pytorch import ToTensorV2\n",
    "from torch.utils.data import Dataset, DataLoader\n",
    "from torch import nn\n",
    "from tqdm.notebook import tqdm\n",
    "from sklearn.preprocessing import StandardScaler\n",
    "\n",
    "import torch\n",
    "import timm\n",
    "import glob\n",
    "import torchmetrics\n",
    "import time\n",
    "import psutil\n",
    "import os\n",
    "\n",
    "tqdm.pandas()"
   ]
  },
  {
   "cell_type": "code",
   "execution_count": 2,
   "id": "dca4c05e",
   "metadata": {
    "execution": {
     "iopub.execute_input": "2024-06-05T20:35:11.662231Z",
     "iopub.status.busy": "2024-06-05T20:35:11.661910Z",
     "iopub.status.idle": "2024-06-05T20:35:11.668198Z",
     "shell.execute_reply": "2024-06-05T20:35:11.667303Z"
    },
    "papermill": {
     "duration": 0.016196,
     "end_time": "2024-06-05T20:35:11.670133",
     "exception": false,
     "start_time": "2024-06-05T20:35:11.653937",
     "status": "completed"
    },
    "tags": []
   },
   "outputs": [],
   "source": [
    "class Config():\n",
    "    IMAGE_SIZE = 256 # 384\n",
    "    BACKBONE = 'convnext_base.clip_laion2b_augreg_ft_in12k_in1k' # 'caformer_b36.sail_in22k_ft_in1k_384' # 'swin_large_patch4_window12_384.ms_in22k_ft_in1k'\n",
    "    TARGET_COLUMNS = ['X4_mean', 'X11_mean', 'X18_mean', 'X50_mean', 'X26_mean', 'X3112_mean']\n",
    "    N_TARGETS = len(TARGET_COLUMNS)\n",
    "    TRAIN_MODEL = True\n",
    "    BUILD_PKL_DATASET = False\n",
    "    USE_SMALL_DATASET = False\n",
    "    USE_MODIFIED_TRAIN = False\n",
    "    EXTRACT_FEATURES = False\n",
    "    BATCH_SIZE = 10\n",
    "    LR_MAX = 1e-4\n",
    "    WEIGHT_DECAY = 0.01\n",
    "    N_EPOCHS = 6\n",
    "    TRAIN_MODEL = True\n",
    "    IS_INTERACTIVE = os.environ['KAGGLE_KERNEL_RUN_TYPE'] == 'Interactive'\n",
    "        \n",
    "CONFIG = Config()"
   ]
  },
  {
   "cell_type": "markdown",
   "id": "bbe6a58f",
   "metadata": {
    "papermill": {
     "duration": 0.006463,
     "end_time": "2024-06-05T20:35:11.683460",
     "exception": false,
     "start_time": "2024-06-05T20:35:11.676997",
     "status": "completed"
    },
    "tags": []
   },
   "source": [
    "# Load the dataset and clean it a bit th"
   ]
  },
  {
   "cell_type": "code",
   "execution_count": 3,
   "id": "0efa152f",
   "metadata": {
    "execution": {
     "iopub.execute_input": "2024-06-05T20:35:11.700228Z",
     "iopub.status.busy": "2024-06-05T20:35:11.699892Z",
     "iopub.status.idle": "2024-06-05T20:35:51.306945Z",
     "shell.execute_reply": "2024-06-05T20:35:51.306000Z"
    },
    "papermill": {
     "duration": 39.625513,
     "end_time": "2024-06-05T20:35:51.315818",
     "exception": false,
     "start_time": "2024-06-05T20:35:11.690305",
     "status": "completed"
    },
    "tags": []
   },
   "outputs": [
    {
     "name": "stdout",
     "output_type": "stream",
     "text": [
      "N_TRAIN_SAMPLES: 49168 N_TEST_SAMPLES: 6545\n"
     ]
    }
   ],
   "source": [
    "if CONFIG.BUILD_PKL_DATASET is True:\n",
    "    train = pd.read_csv('/kaggle/input/planttraits2024/train.csv')\n",
    "    train['file_path'] = train['id'].apply(lambda s: f'/kaggle/input/planttraits2024/train_images/{s}.jpeg')\n",
    "    train['jpeg_bytes'] = train['file_path'].progress_apply(lambda fp: open(fp, 'rb').read())\n",
    "    train.to_pickle('train.pkl')\n",
    "    test = pd.read_csv('/kaggle/input/planttraits2024/test.csv')\n",
    "    test['file_path'] = test['id'].apply(lambda s: f'/kaggle/input/planttraits2024/test_images/{s}.jpeg')\n",
    "    test['jpeg_bytes'] = test['file_path'].progress_apply(lambda fp: open(fp, 'rb').read())\n",
    "    test.to_pickle('test.pkl')\n",
    "else:\n",
    "    if CONFIG.USE_SMALL_DATASET is True:\n",
    "        train = pd.read_pickle('/kaggle/input/dataset-with-validation/small_train.pkl')       \n",
    "    elif CONFIG.USE_MODIFIED_TRAIN is True:\n",
    "        train = pd.read_pickle('/kaggle/input/dataset-with-validation/train_set.pkl')\n",
    "    else:\n",
    "         train = pd.read_pickle('/kaggle/input/baseline-model/train.pkl')\n",
    "    test = pd.read_pickle('/kaggle/input/baseline-model/test.pkl')\n",
    "    \n",
    "for column in CONFIG.TARGET_COLUMNS:\n",
    "    lower_quantile = train[column].quantile(0.005)\n",
    "    upper_quantile = train[column].quantile(0.985)  \n",
    "    train = train[(train[column] >= lower_quantile) & (train[column] <= upper_quantile)]\n",
    "\n",
    "CONFIG.N_TRAIN_SAMPLES = len(train)\n",
    "CONFIG.N_STEPS_PER_EPOCH = (CONFIG.N_TRAIN_SAMPLES // CONFIG.BATCH_SIZE)\n",
    "CONFIG.N_STEPS = CONFIG.N_STEPS_PER_EPOCH * CONFIG.N_EPOCHS + 1\n",
    "\n",
    "print('N_TRAIN_SAMPLES:', len(train), 'N_TEST_SAMPLES:', len(test))"
   ]
  },
  {
   "cell_type": "code",
   "execution_count": 4,
   "id": "ce249d81",
   "metadata": {
    "execution": {
     "iopub.execute_input": "2024-06-05T20:35:51.330082Z",
     "iopub.status.busy": "2024-06-05T20:35:51.329799Z",
     "iopub.status.idle": "2024-06-05T20:35:51.354347Z",
     "shell.execute_reply": "2024-06-05T20:35:51.353485Z"
    },
    "papermill": {
     "duration": 0.033964,
     "end_time": "2024-06-05T20:35:51.356402",
     "exception": false,
     "start_time": "2024-06-05T20:35:51.322438",
     "status": "completed"
    },
    "tags": []
   },
   "outputs": [],
   "source": [
    "LOG_FEATURES = ['X4_mean', 'X11_mean', 'X18_mean', 'X50_mean', 'X26_mean', 'X3112_mean']\n",
    "\n",
    "y_train = np.zeros_like(train[CONFIG.TARGET_COLUMNS], dtype=np.float32)\n",
    "for target_idx, target in enumerate(CONFIG.TARGET_COLUMNS):\n",
    "    v = train[target].values\n",
    "    if target in LOG_FEATURES:\n",
    "        v = np.log10(v)\n",
    "    y_train[:, target_idx] = v\n",
    "\n",
    "SCALER = StandardScaler()\n",
    "y_train = SCALER.fit_transform(y_train)"
   ]
  },
  {
   "cell_type": "markdown",
   "id": "cf7c9e52",
   "metadata": {
    "papermill": {
     "duration": 0.006225,
     "end_time": "2024-06-05T20:35:51.369519",
     "exception": false,
     "start_time": "2024-06-05T20:35:51.363294",
     "status": "completed"
    },
    "tags": []
   },
   "source": [
    "# Create the transforms for the train and the test datasets and make the dataloaders"
   ]
  },
  {
   "cell_type": "code",
   "execution_count": 5,
   "id": "edf57ebe",
   "metadata": {
    "execution": {
     "iopub.execute_input": "2024-06-05T20:35:51.384877Z",
     "iopub.status.busy": "2024-06-05T20:35:51.384159Z",
     "iopub.status.idle": "2024-06-05T20:35:51.397224Z",
     "shell.execute_reply": "2024-06-05T20:35:51.396388Z"
    },
    "papermill": {
     "duration": 0.022191,
     "end_time": "2024-06-05T20:35:51.399172",
     "exception": false,
     "start_time": "2024-06-05T20:35:51.376981",
     "status": "completed"
    },
    "tags": []
   },
   "outputs": [],
   "source": [
    "MEAN = np.array([0.485, 0.456, 0.406])\n",
    "STD = np.array([0.229, 0.224, 0.225])\n",
    "\n",
    "TRAIN_TRANSFORMS = A.Compose([\n",
    "        A.HorizontalFlip(p=0.5),\n",
    "        A.RandomSizedCrop(\n",
    "            [448, 512],\n",
    "            CONFIG.IMAGE_SIZE, CONFIG.IMAGE_SIZE, w2h_ratio=1.0, p=0.75),\n",
    "        A.Resize(CONFIG.IMAGE_SIZE, CONFIG.IMAGE_SIZE),\n",
    "        A.RandomBrightnessContrast(brightness_limit=0.1, contrast_limit=0.1, p=0.25),\n",
    "        A.ImageCompression(quality_lower=85, quality_upper=100, p=0.25),\n",
    "        A.ToFloat(),\n",
    "        A.Normalize(mean=MEAN, std=STD, max_pixel_value=1),\n",
    "        ToTensorV2(),\n",
    "    ])\n",
    "\n",
    "TEST_TRANSFORMS = A.Compose([\n",
    "        A.Resize(CONFIG.IMAGE_SIZE, CONFIG.IMAGE_SIZE),\n",
    "        A.ToFloat(),\n",
    "        A.Normalize(mean=MEAN, std=STD, max_pixel_value=1),\n",
    "        ToTensorV2(),\n",
    "    ])\n",
    "\n",
    "class Dataset(Dataset):\n",
    "    def __init__(self, X_jpeg_bytes, y, transforms=None):\n",
    "        self.X_jpeg_bytes = X_jpeg_bytes\n",
    "        self.y = y\n",
    "        self.transforms = transforms\n",
    "\n",
    "    def __len__(self):\n",
    "        return len(self.X_jpeg_bytes)\n",
    "\n",
    "    def __getitem__(self, index):\n",
    "        X_sample = self.transforms(\n",
    "            image=imageio.imread(self.X_jpeg_bytes[index]),\n",
    "        )['image']\n",
    "        y_sample = self.y[index]\n",
    "        \n",
    "        return X_sample, y_sample\n",
    "\n",
    "train_dataset = Dataset(\n",
    "    train['jpeg_bytes'].values,\n",
    "    y_train,\n",
    "    TRAIN_TRANSFORMS,\n",
    ")\n",
    "\n",
    "train_dataloader = DataLoader(\n",
    "        train_dataset,\n",
    "        batch_size=CONFIG.BATCH_SIZE,\n",
    "        shuffle=True,\n",
    "        drop_last=True,\n",
    "        num_workers=psutil.cpu_count(),\n",
    ")\n",
    "\n",
    "test_dataset = Dataset(\n",
    "    test['jpeg_bytes'].values,\n",
    "    test['id'].values,\n",
    "    TEST_TRANSFORMS,\n",
    ")"
   ]
  },
  {
   "cell_type": "markdown",
   "id": "f6969cac",
   "metadata": {
    "execution": {
     "iopub.execute_input": "2024-06-04T11:00:11.324959Z",
     "iopub.status.busy": "2024-06-04T11:00:11.324619Z",
     "iopub.status.idle": "2024-06-04T11:00:11.329865Z",
     "shell.execute_reply": "2024-06-04T11:00:11.328863Z",
     "shell.execute_reply.started": "2024-06-04T11:00:11.324922Z"
    },
    "papermill": {
     "duration": 0.006308,
     "end_time": "2024-06-05T20:35:51.411820",
     "exception": false,
     "start_time": "2024-06-05T20:35:51.405512",
     "status": "completed"
    },
    "tags": []
   },
   "source": [
    "# Create a model to make the predictions based on a pretrained one"
   ]
  },
  {
   "cell_type": "code",
   "execution_count": 6,
   "id": "7e09ee12",
   "metadata": {
    "execution": {
     "iopub.execute_input": "2024-06-05T20:35:51.426044Z",
     "iopub.status.busy": "2024-06-05T20:35:51.425761Z",
     "iopub.status.idle": "2024-06-05T20:35:51.430981Z",
     "shell.execute_reply": "2024-06-05T20:35:51.430173Z"
    },
    "papermill": {
     "duration": 0.014689,
     "end_time": "2024-06-05T20:35:51.432840",
     "exception": false,
     "start_time": "2024-06-05T20:35:51.418151",
     "status": "completed"
    },
    "tags": []
   },
   "outputs": [],
   "source": [
    "class Model(nn.Module):\n",
    "    def __init__(self):\n",
    "        super().__init__()\n",
    "        self.backbone = timm.create_model(\n",
    "            CONFIG.BACKBONE,\n",
    "            num_classes=CONFIG.N_TARGETS,\n",
    "            pretrained=True,\n",
    "        )\n",
    "        \n",
    "    def forward(self, inputs):\n",
    "        return self.backbone(inputs)"
   ]
  },
  {
   "cell_type": "markdown",
   "id": "1c2f14a8",
   "metadata": {
    "papermill": {
     "duration": 0.00624,
     "end_time": "2024-06-05T20:35:51.445655",
     "exception": false,
     "start_time": "2024-06-05T20:35:51.439415",
     "status": "completed"
    },
    "tags": []
   },
   "source": [
    "# A model where we freeze the first couple of layers"
   ]
  },
  {
   "cell_type": "code",
   "execution_count": 7,
   "id": "7d8876fc",
   "metadata": {
    "execution": {
     "iopub.execute_input": "2024-06-05T20:35:51.461799Z",
     "iopub.status.busy": "2024-06-05T20:35:51.461079Z",
     "iopub.status.idle": "2024-06-05T20:35:51.468455Z",
     "shell.execute_reply": "2024-06-05T20:35:51.467553Z"
    },
    "papermill": {
     "duration": 0.017674,
     "end_time": "2024-06-05T20:35:51.470628",
     "exception": false,
     "start_time": "2024-06-05T20:35:51.452954",
     "status": "completed"
    },
    "tags": []
   },
   "outputs": [],
   "source": [
    "class FreezeModel(nn.Module):\n",
    "    def __init__(self, freeze_till_stage=2):\n",
    "        super().__init__()\n",
    "        self.backbone = timm.create_model(\n",
    "            CONFIG.BACKBONE,\n",
    "            num_classes=0, \n",
    "            pretrained=True\n",
    "        )\n",
    "    \n",
    "        # Freeze layers up \n",
    "        for name, param in self.backbone.named_parameters():\n",
    "            # This assumes layer names include the stage they belong to\n",
    "            if 'layers.' in name and int(name.split('.')[1]) < freeze_till_stage:\n",
    "                param.requires_grad = False\n",
    "        self.classifier = nn.Linear(self.backbone.num_features, CONFIG.N_TARGETS)\n",
    "\n",
    "    def forward(self, inputs):\n",
    "        x = self.backbone(inputs)\n",
    "        return self.classifier(x)"
   ]
  },
  {
   "cell_type": "markdown",
   "id": "f8a60268",
   "metadata": {
    "papermill": {
     "duration": 0.006779,
     "end_time": "2024-06-05T20:35:51.484612",
     "exception": false,
     "start_time": "2024-06-05T20:35:51.477833",
     "status": "completed"
    },
    "tags": []
   },
   "source": [
    "# A model to exract features from the images based on a pretrained model"
   ]
  },
  {
   "cell_type": "code",
   "execution_count": 8,
   "id": "82a09904",
   "metadata": {
    "execution": {
     "iopub.execute_input": "2024-06-05T20:35:51.500142Z",
     "iopub.status.busy": "2024-06-05T20:35:51.499436Z",
     "iopub.status.idle": "2024-06-05T20:35:51.504985Z",
     "shell.execute_reply": "2024-06-05T20:35:51.504095Z"
    },
    "papermill": {
     "duration": 0.015389,
     "end_time": "2024-06-05T20:35:51.506946",
     "exception": false,
     "start_time": "2024-06-05T20:35:51.491557",
     "status": "completed"
    },
    "tags": []
   },
   "outputs": [],
   "source": [
    "class FeatureExtractModel(nn.Module):\n",
    "    def __init__(self):\n",
    "        super().__init__()\n",
    "        self.backbone = timm.create_model(\n",
    "            CONFIG.BACKBONE,\n",
    "            pretrained=True,\n",
    "            num_classes=0,\n",
    "#             global_pool='',\n",
    "        )\n",
    "    \n",
    "    def forward(self, images):\n",
    "        image_features = self.backbone(images)\n",
    "        \n",
    "        return image_features"
   ]
  },
  {
   "cell_type": "code",
   "execution_count": 9,
   "id": "1164fc2a",
   "metadata": {
    "execution": {
     "iopub.execute_input": "2024-06-05T20:35:51.522052Z",
     "iopub.status.busy": "2024-06-05T20:35:51.521319Z",
     "iopub.status.idle": "2024-06-05T20:35:56.140571Z",
     "shell.execute_reply": "2024-06-05T20:35:56.139513Z"
    },
    "papermill": {
     "duration": 4.629367,
     "end_time": "2024-06-05T20:35:56.143023",
     "exception": false,
     "start_time": "2024-06-05T20:35:51.513656",
     "status": "completed"
    },
    "tags": []
   },
   "outputs": [
    {
     "data": {
      "application/vnd.jupyter.widget-view+json": {
       "model_id": "f1d5276dcc894f60b9a302f762d68c0b",
       "version_major": 2,
       "version_minor": 0
      },
      "text/plain": [
       "model.safetensors:   0%|          | 0.00/354M [00:00<?, ?B/s]"
      ]
     },
     "metadata": {},
     "output_type": "display_data"
    }
   ],
   "source": [
    "model = Model() # FreezeModel()\n",
    "model = model.to('cuda')\n",
    "# print(model)"
   ]
  },
  {
   "cell_type": "markdown",
   "id": "248a0c1a",
   "metadata": {
    "papermill": {
     "duration": 0.00677,
     "end_time": "2024-06-05T20:35:56.157023",
     "exception": false,
     "start_time": "2024-06-05T20:35:56.150253",
     "status": "completed"
    },
    "tags": []
   },
   "source": [
    "# Set upthe various parameters for training"
   ]
  },
  {
   "cell_type": "code",
   "execution_count": 10,
   "id": "f37d81fa",
   "metadata": {
    "execution": {
     "iopub.execute_input": "2024-06-05T20:35:56.172224Z",
     "iopub.status.busy": "2024-06-05T20:35:56.171897Z",
     "iopub.status.idle": "2024-06-05T20:35:56.206070Z",
     "shell.execute_reply": "2024-06-05T20:35:56.205200Z"
    },
    "papermill": {
     "duration": 0.04434,
     "end_time": "2024-06-05T20:35:56.208305",
     "exception": false,
     "start_time": "2024-06-05T20:35:56.163965",
     "status": "completed"
    },
    "tags": []
   },
   "outputs": [],
   "source": [
    "def get_lr_scheduler(optimizer):\n",
    "    return torch.optim.lr_scheduler.OneCycleLR(\n",
    "        optimizer=optimizer,\n",
    "        max_lr=CONFIG.LR_MAX,\n",
    "        total_steps=CONFIG.N_STEPS,\n",
    "        pct_start=0.1,\n",
    "        anneal_strategy='cos',\n",
    "        div_factor=1e1,\n",
    "        final_div_factor=1e1,\n",
    "    )\n",
    "\n",
    "class AverageMeter(object):\n",
    "    def __init__(self):\n",
    "        self.reset()\n",
    "\n",
    "    def reset(self):\n",
    "        self.avg = 0\n",
    "        self.sum = 0\n",
    "        self.count = 0\n",
    "\n",
    "    def update(self, val):\n",
    "        self.sum += val.sum()\n",
    "        self.count += val.numel()\n",
    "        self.avg = self.sum / self.count\n",
    "\n",
    "MAE = torchmetrics.regression.MeanAbsoluteError().to('cuda')\n",
    "R2 = torchmetrics.regression.R2Score(num_outputs=CONFIG.N_TARGETS, multioutput='uniform_average').to('cuda')\n",
    "LOSS = AverageMeter()\n",
    "\n",
    "Y_MEAN = torch.tensor(y_train).mean(dim=0).to('cuda')\n",
    "EPS = torch.tensor([1e-6]).to('cuda')\n",
    "\n",
    "def r2_loss(y_pred, y_true):\n",
    "    ss_res = torch.sum((y_true - y_pred)**2, dim=0)\n",
    "    ss_total = torch.sum((y_true - Y_MEAN)**2, dim=0)\n",
    "    ss_total = torch.maximum(ss_total, EPS)\n",
    "    r2 = torch.mean(ss_res / ss_total)\n",
    "    return r2\n",
    "\n",
    "LOSS_FN = nn.SmoothL1Loss() # r2_loss\n",
    "\n",
    "optimizer = torch.optim.AdamW(\n",
    "    params=model.parameters(),\n",
    "    lr=CONFIG.LR_MAX,\n",
    "    weight_decay=CONFIG.WEIGHT_DECAY,\n",
    ")\n",
    "\n",
    "LR_SCHEDULER = get_lr_scheduler(optimizer)"
   ]
  },
  {
   "cell_type": "markdown",
   "id": "521c064f",
   "metadata": {
    "papermill": {
     "duration": 0.006786,
     "end_time": "2024-06-05T20:35:56.222462",
     "exception": false,
     "start_time": "2024-06-05T20:35:56.215676",
     "status": "completed"
    },
    "tags": []
   },
   "source": [
    "# Extract features from the images based on a model of choice"
   ]
  },
  {
   "cell_type": "code",
   "execution_count": 11,
   "id": "dce7fd6a",
   "metadata": {
    "execution": {
     "iopub.execute_input": "2024-06-05T20:35:56.237495Z",
     "iopub.status.busy": "2024-06-05T20:35:56.237149Z",
     "iopub.status.idle": "2024-06-05T20:35:56.245031Z",
     "shell.execute_reply": "2024-06-05T20:35:56.244119Z"
    },
    "papermill": {
     "duration": 0.017681,
     "end_time": "2024-06-05T20:35:56.247003",
     "exception": false,
     "start_time": "2024-06-05T20:35:56.229322",
     "status": "completed"
    },
    "tags": []
   },
   "outputs": [],
   "source": [
    "def extract_features(dataloader, model):\n",
    "    model.eval()\n",
    "    features_list = []\n",
    "    \n",
    "    with torch.no_grad():\n",
    "        for step, (X_batch, _) in enumerate(dataloader):\n",
    "            X_batch = X_batch.unsqueeze(0).to('cuda')\n",
    "            # get the features and bring them back to the cpu so we can use them \n",
    "            # to make the dataset\n",
    "            y_pred = model(X_batch).cpu()\n",
    "            features_list.extend(y_pred)\n",
    "    \n",
    "    features_array = np.array(features_list)\n",
    "    \n",
    "    # Convert the features array into a DataFrame\n",
    "    features_df = pd.DataFrame(features_array)\n",
    "    \n",
    "    features_df.columns = [f'feature_{i}' for i in range(features_array.shape[1])]\n",
    "    \n",
    "    return features_df\n",
    "\n",
    "if CONFIG.EXTRACT_FEATURES:\n",
    "    feature_extract_model = FeatureExtractModel()\n",
    "    feature_extract_model = model.to('cuda')\n",
    "\n",
    "    df = extract_features(train_dataloader, feature_extract_model)\n",
    "    df.to_pickle(\"swin_features.pkl\")\n",
    "    df = extract_features(test_dataset, feature_extract_model)\n",
    "    df.to_pickle(\"swin_features_test.pkl\")"
   ]
  },
  {
   "cell_type": "markdown",
   "id": "14643581",
   "metadata": {
    "papermill": {
     "duration": 0.006637,
     "end_time": "2024-06-05T20:35:56.260473",
     "exception": false,
     "start_time": "2024-06-05T20:35:56.253836",
     "status": "completed"
    },
    "tags": []
   },
   "source": [
    "# Train the model"
   ]
  },
  {
   "cell_type": "code",
   "execution_count": 12,
   "id": "88a3073f",
   "metadata": {
    "execution": {
     "iopub.execute_input": "2024-06-05T20:35:56.275300Z",
     "iopub.status.busy": "2024-06-05T20:35:56.275003Z",
     "iopub.status.idle": "2024-06-06T01:57:49.413469Z",
     "shell.execute_reply": "2024-06-06T01:57:49.412224Z"
    },
    "papermill": {
     "duration": 19313.149586,
     "end_time": "2024-06-06T01:57:49.416770",
     "exception": false,
     "start_time": "2024-06-05T20:35:56.267184",
     "status": "completed"
    },
    "tags": []
   },
   "outputs": [
    {
     "name": "stdout",
     "output_type": "stream",
     "text": [
      "Start Training:\n",
      "EPOCH 01, 4916/4916 | loss: 0.3437, mae: 0.6941, r2: 0.2102, step: 1.269s, lr: 9.87e-05\n",
      "EPOCH 02, 4916/4916 | loss: 0.3337, mae: 0.6812, r2: 0.2371, step: 0.653s, lr: 8.45e-05\n",
      "EPOCH 03, 4916/4916 | loss: 0.3101, mae: 0.6496, r2: 0.2948, step: 0.646s, lr: 5.91e-05\n",
      "EPOCH 04, 4916/4916 | loss: 0.2772, mae: 0.6058, r2: 0.3772, step: 0.655s, lr: 3.09e-05\n",
      "EPOCH 05, 4916/4916 | loss: 0.2379, mae: 0.5517, r2: 0.4731, step: 0.661s, lr: 9.14e-06\n",
      "EPOCH 06, 4916/4916 | loss: 0.2052, mae: 0.5051, r2: 0.5515, step: 0.646s, lr: 1.00e-06\n"
     ]
    }
   ],
   "source": [
    "if CONFIG.TRAIN_MODEL is True:\n",
    "    print(\"Start Training:\")\n",
    "    for epoch in range(CONFIG.N_EPOCHS):\n",
    "        MAE.reset()\n",
    "        R2.reset()\n",
    "        LOSS.reset()\n",
    "        model.train()\n",
    "\n",
    "        for step, (X_batch, y_true) in enumerate(train_dataloader):\n",
    "            X_batch = X_batch.to('cuda')\n",
    "            y_true = y_true.to('cuda')\n",
    "            t_start = time.perf_counter_ns()\n",
    "            y_pred = model(X_batch)\n",
    "            loss = LOSS_FN(y_pred, y_true)\n",
    "            LOSS.update(loss)\n",
    "            loss.backward()\n",
    "            optimizer.step()\n",
    "            optimizer.zero_grad()\n",
    "            LR_SCHEDULER.step()\n",
    "            MAE.update(y_pred, y_true)\n",
    "            R2.update(y_pred, y_true)\n",
    "\n",
    "            if not CONFIG.IS_INTERACTIVE and (step+1) == CONFIG.N_STEPS_PER_EPOCH:\n",
    "                print(\n",
    "                    f'EPOCH {epoch+1:02d}, {step+1:04d}/{CONFIG.N_STEPS_PER_EPOCH} | ' + \n",
    "                    f'loss: {LOSS.avg:.4f}, mae: {MAE.compute().item():.4f}, r2: {R2.compute().item():.4f}, ' +\n",
    "                    f'step: {(time.perf_counter_ns()-t_start)*1e-9:.3f}s, lr: {LR_SCHEDULER.get_last_lr()[0]:.2e}',\n",
    "                )\n",
    "            elif CONFIG.IS_INTERACTIVE:\n",
    "                print(\n",
    "                    f'\\rEPOCH {epoch+1:02d}, {step+1:04d}/{CONFIG.N_STEPS_PER_EPOCH} | ' + \n",
    "                    f'loss: {LOSS.avg:.4f}, mae: {MAE.compute().item():.4f}, r2: {R2.compute().item():.4f}, ' +\n",
    "                    f'step: {(time.perf_counter_ns()-t_start)*1e-9:.3f}s, lr: {LR_SCHEDULER.get_last_lr()[0]:.2e}',\n",
    "                    end='\\n' if (step + 1) == CONFIG.N_STEPS_PER_EPOCH else '', flush=True,\n",
    "                )\n",
    "\n",
    "    torch.save(model, 'model.pth')"
   ]
  },
  {
   "cell_type": "markdown",
   "id": "728e482a",
   "metadata": {
    "papermill": {
     "duration": 0.008874,
     "end_time": "2024-06-06T01:57:49.437631",
     "exception": false,
     "start_time": "2024-06-06T01:57:49.428757",
     "status": "completed"
    },
    "tags": []
   },
   "source": [
    "# Submit the results"
   ]
  },
  {
   "cell_type": "code",
   "execution_count": 13,
   "id": "10c38c16",
   "metadata": {
    "execution": {
     "iopub.execute_input": "2024-06-06T01:57:49.455851Z",
     "iopub.status.busy": "2024-06-06T01:57:49.455405Z",
     "iopub.status.idle": "2024-06-06T01:59:59.466260Z",
     "shell.execute_reply": "2024-06-06T01:59:59.465181Z"
    },
    "papermill": {
     "duration": 130.022506,
     "end_time": "2024-06-06T01:59:59.468294",
     "exception": false,
     "start_time": "2024-06-06T01:57:49.445788",
     "status": "completed"
    },
    "tags": []
   },
   "outputs": [
    {
     "data": {
      "application/vnd.jupyter.widget-view+json": {
       "model_id": "f6d9e309dfa34d5787cb6114e1cb18a4",
       "version_major": 2,
       "version_minor": 0
      },
      "text/plain": [
       "  0%|          | 0/6545 [00:00<?, ?it/s]"
      ]
     },
     "metadata": {},
     "output_type": "display_data"
    },
    {
     "name": "stdout",
     "output_type": "stream",
     "text": [
      "Submit!\n"
     ]
    }
   ],
   "source": [
    "SUBMISSION_ROWS = []\n",
    "model.eval()\n",
    "\n",
    "for X_sample_test, test_id in tqdm(test_dataset):\n",
    "    with torch.no_grad():\n",
    "        y_pred = model(X_sample_test.unsqueeze(0).to('cuda')).detach().cpu().numpy()\n",
    "    \n",
    "    y_pred = SCALER.inverse_transform(y_pred).squeeze()\n",
    "    row = {'id': test_id}\n",
    "    \n",
    "    for k, v in zip(CONFIG.TARGET_COLUMNS, y_pred):\n",
    "        if k in LOG_FEATURES:\n",
    "            row[k.replace('_mean', '')] = 10 ** v\n",
    "        else:\n",
    "            row[k.replace('_mean', '')] = v\n",
    "\n",
    "    SUBMISSION_ROWS.append(row)\n",
    "    \n",
    "submission_df = pd.DataFrame(SUBMISSION_ROWS)\n",
    "submission_df.to_csv('submission.csv', index=False)\n",
    "print(\"Submit!\")"
   ]
  }
 ],
 "metadata": {
  "kaggle": {
   "accelerator": "nvidiaTeslaT4",
   "dataSources": [
    {
     "databundleVersionId": 8046133,
     "sourceId": 65626,
     "sourceType": "competition"
    },
    {
     "datasetId": 4816952,
     "sourceId": 8145845,
     "sourceType": "datasetVersion"
    },
    {
     "datasetId": 4819871,
     "sourceId": 8149784,
     "sourceType": "datasetVersion"
    },
    {
     "datasetId": 4841404,
     "sourceId": 8178456,
     "sourceType": "datasetVersion"
    },
    {
     "datasetId": 4860734,
     "sourceId": 8204134,
     "sourceType": "datasetVersion"
    },
    {
     "datasetId": 4862895,
     "sourceId": 8332370,
     "sourceType": "datasetVersion"
    },
    {
     "datasetId": 4947895,
     "sourceId": 8332380,
     "sourceType": "datasetVersion"
    },
    {
     "datasetId": 4912621,
     "sourceId": 8409225,
     "sourceType": "datasetVersion"
    }
   ],
   "isGpuEnabled": true,
   "isInternetEnabled": true,
   "language": "python",
   "sourceType": "notebook"
  },
  "kernelspec": {
   "display_name": "Python 3",
   "language": "python",
   "name": "python3"
  },
  "language_info": {
   "codemirror_mode": {
    "name": "ipython",
    "version": 3
   },
   "file_extension": ".py",
   "mimetype": "text/x-python",
   "name": "python",
   "nbconvert_exporter": "python",
   "pygments_lexer": "ipython3",
   "version": "3.10.13"
  },
  "papermill": {
   "default_parameters": {},
   "duration": 19506.939923,
   "end_time": "2024-06-06T02:00:02.534913",
   "environment_variables": {},
   "exception": null,
   "input_path": "__notebook__.ipynb",
   "output_path": "__notebook__.ipynb",
   "parameters": {},
   "start_time": "2024-06-05T20:34:55.594990",
   "version": "2.5.0"
  },
  "widgets": {
   "application/vnd.jupyter.widget-state+json": {
    "state": {
     "0a44dd8ad92a4e37a2e026f696a684ec": {
      "model_module": "@jupyter-widgets/controls",
      "model_module_version": "1.5.0",
      "model_name": "HTMLModel",
      "state": {
       "_dom_classes": [],
       "_model_module": "@jupyter-widgets/controls",
       "_model_module_version": "1.5.0",
       "_model_name": "HTMLModel",
       "_view_count": null,
       "_view_module": "@jupyter-widgets/controls",
       "_view_module_version": "1.5.0",
       "_view_name": "HTMLView",
       "description": "",
       "description_tooltip": null,
       "layout": "IPY_MODEL_a6e5cb829f454da8a01c4ae44abcddbc",
       "placeholder": "​",
       "style": "IPY_MODEL_7f12e64efe3d4f27a0e0e747a8efe122",
       "value": " 6545/6545 [02:09&lt;00:00, 51.41it/s]"
      }
     },
     "0bff688836ef49c28e73dc0529ce5ce9": {
      "model_module": "@jupyter-widgets/base",
      "model_module_version": "1.2.0",
      "model_name": "LayoutModel",
      "state": {
       "_model_module": "@jupyter-widgets/base",
       "_model_module_version": "1.2.0",
       "_model_name": "LayoutModel",
       "_view_count": null,
       "_view_module": "@jupyter-widgets/base",
       "_view_module_version": "1.2.0",
       "_view_name": "LayoutView",
       "align_content": null,
       "align_items": null,
       "align_self": null,
       "border": null,
       "bottom": null,
       "display": null,
       "flex": null,
       "flex_flow": null,
       "grid_area": null,
       "grid_auto_columns": null,
       "grid_auto_flow": null,
       "grid_auto_rows": null,
       "grid_column": null,
       "grid_gap": null,
       "grid_row": null,
       "grid_template_areas": null,
       "grid_template_columns": null,
       "grid_template_rows": null,
       "height": null,
       "justify_content": null,
       "justify_items": null,
       "left": null,
       "margin": null,
       "max_height": null,
       "max_width": null,
       "min_height": null,
       "min_width": null,
       "object_fit": null,
       "object_position": null,
       "order": null,
       "overflow": null,
       "overflow_x": null,
       "overflow_y": null,
       "padding": null,
       "right": null,
       "top": null,
       "visibility": null,
       "width": null
      }
     },
     "2b58216a4ccb4c2f9eada493c0f32d49": {
      "model_module": "@jupyter-widgets/controls",
      "model_module_version": "1.5.0",
      "model_name": "HTMLModel",
      "state": {
       "_dom_classes": [],
       "_model_module": "@jupyter-widgets/controls",
       "_model_module_version": "1.5.0",
       "_model_name": "HTMLModel",
       "_view_count": null,
       "_view_module": "@jupyter-widgets/controls",
       "_view_module_version": "1.5.0",
       "_view_name": "HTMLView",
       "description": "",
       "description_tooltip": null,
       "layout": "IPY_MODEL_c59139494d4847b087a07169bda56f3d",
       "placeholder": "​",
       "style": "IPY_MODEL_5fd71d8e493441889c944874e7a2036b",
       "value": " 354M/354M [00:01&lt;00:00, 213MB/s]"
      }
     },
     "317e8a585e1248b18c7c1f27dee12d48": {
      "model_module": "@jupyter-widgets/base",
      "model_module_version": "1.2.0",
      "model_name": "LayoutModel",
      "state": {
       "_model_module": "@jupyter-widgets/base",
       "_model_module_version": "1.2.0",
       "_model_name": "LayoutModel",
       "_view_count": null,
       "_view_module": "@jupyter-widgets/base",
       "_view_module_version": "1.2.0",
       "_view_name": "LayoutView",
       "align_content": null,
       "align_items": null,
       "align_self": null,
       "border": null,
       "bottom": null,
       "display": null,
       "flex": null,
       "flex_flow": null,
       "grid_area": null,
       "grid_auto_columns": null,
       "grid_auto_flow": null,
       "grid_auto_rows": null,
       "grid_column": null,
       "grid_gap": null,
       "grid_row": null,
       "grid_template_areas": null,
       "grid_template_columns": null,
       "grid_template_rows": null,
       "height": null,
       "justify_content": null,
       "justify_items": null,
       "left": null,
       "margin": null,
       "max_height": null,
       "max_width": null,
       "min_height": null,
       "min_width": null,
       "object_fit": null,
       "object_position": null,
       "order": null,
       "overflow": null,
       "overflow_x": null,
       "overflow_y": null,
       "padding": null,
       "right": null,
       "top": null,
       "visibility": null,
       "width": null
      }
     },
     "349ac73ad1904f0b896b9bdf1cfcaa30": {
      "model_module": "@jupyter-widgets/controls",
      "model_module_version": "1.5.0",
      "model_name": "ProgressStyleModel",
      "state": {
       "_model_module": "@jupyter-widgets/controls",
       "_model_module_version": "1.5.0",
       "_model_name": "ProgressStyleModel",
       "_view_count": null,
       "_view_module": "@jupyter-widgets/base",
       "_view_module_version": "1.2.0",
       "_view_name": "StyleView",
       "bar_color": null,
       "description_width": ""
      }
     },
     "34b2770d2706408da78a9845ce1883bb": {
      "model_module": "@jupyter-widgets/controls",
      "model_module_version": "1.5.0",
      "model_name": "ProgressStyleModel",
      "state": {
       "_model_module": "@jupyter-widgets/controls",
       "_model_module_version": "1.5.0",
       "_model_name": "ProgressStyleModel",
       "_view_count": null,
       "_view_module": "@jupyter-widgets/base",
       "_view_module_version": "1.2.0",
       "_view_name": "StyleView",
       "bar_color": null,
       "description_width": ""
      }
     },
     "39d564b2910240f7a34c8eb468e5c9a2": {
      "model_module": "@jupyter-widgets/controls",
      "model_module_version": "1.5.0",
      "model_name": "HTMLModel",
      "state": {
       "_dom_classes": [],
       "_model_module": "@jupyter-widgets/controls",
       "_model_module_version": "1.5.0",
       "_model_name": "HTMLModel",
       "_view_count": null,
       "_view_module": "@jupyter-widgets/controls",
       "_view_module_version": "1.5.0",
       "_view_name": "HTMLView",
       "description": "",
       "description_tooltip": null,
       "layout": "IPY_MODEL_57df7979d5a0473c87bc80c2be9598c3",
       "placeholder": "​",
       "style": "IPY_MODEL_a6020845c866413ea03558487a488dad",
       "value": "100%"
      }
     },
     "43c94bbf97fa45db86bea79d5febcfba": {
      "model_module": "@jupyter-widgets/controls",
      "model_module_version": "1.5.0",
      "model_name": "HTMLModel",
      "state": {
       "_dom_classes": [],
       "_model_module": "@jupyter-widgets/controls",
       "_model_module_version": "1.5.0",
       "_model_name": "HTMLModel",
       "_view_count": null,
       "_view_module": "@jupyter-widgets/controls",
       "_view_module_version": "1.5.0",
       "_view_name": "HTMLView",
       "description": "",
       "description_tooltip": null,
       "layout": "IPY_MODEL_0bff688836ef49c28e73dc0529ce5ce9",
       "placeholder": "​",
       "style": "IPY_MODEL_efdce68211d449fd9b8f42c368ff7fb5",
       "value": "model.safetensors: 100%"
      }
     },
     "57df7979d5a0473c87bc80c2be9598c3": {
      "model_module": "@jupyter-widgets/base",
      "model_module_version": "1.2.0",
      "model_name": "LayoutModel",
      "state": {
       "_model_module": "@jupyter-widgets/base",
       "_model_module_version": "1.2.0",
       "_model_name": "LayoutModel",
       "_view_count": null,
       "_view_module": "@jupyter-widgets/base",
       "_view_module_version": "1.2.0",
       "_view_name": "LayoutView",
       "align_content": null,
       "align_items": null,
       "align_self": null,
       "border": null,
       "bottom": null,
       "display": null,
       "flex": null,
       "flex_flow": null,
       "grid_area": null,
       "grid_auto_columns": null,
       "grid_auto_flow": null,
       "grid_auto_rows": null,
       "grid_column": null,
       "grid_gap": null,
       "grid_row": null,
       "grid_template_areas": null,
       "grid_template_columns": null,
       "grid_template_rows": null,
       "height": null,
       "justify_content": null,
       "justify_items": null,
       "left": null,
       "margin": null,
       "max_height": null,
       "max_width": null,
       "min_height": null,
       "min_width": null,
       "object_fit": null,
       "object_position": null,
       "order": null,
       "overflow": null,
       "overflow_x": null,
       "overflow_y": null,
       "padding": null,
       "right": null,
       "top": null,
       "visibility": null,
       "width": null
      }
     },
     "5a1a972e48124b3fa18735a12903c6d7": {
      "model_module": "@jupyter-widgets/controls",
      "model_module_version": "1.5.0",
      "model_name": "FloatProgressModel",
      "state": {
       "_dom_classes": [],
       "_model_module": "@jupyter-widgets/controls",
       "_model_module_version": "1.5.0",
       "_model_name": "FloatProgressModel",
       "_view_count": null,
       "_view_module": "@jupyter-widgets/controls",
       "_view_module_version": "1.5.0",
       "_view_name": "ProgressView",
       "bar_style": "success",
       "description": "",
       "description_tooltip": null,
       "layout": "IPY_MODEL_317e8a585e1248b18c7c1f27dee12d48",
       "max": 354400320.0,
       "min": 0.0,
       "orientation": "horizontal",
       "style": "IPY_MODEL_34b2770d2706408da78a9845ce1883bb",
       "value": 354400320.0
      }
     },
     "5fd71d8e493441889c944874e7a2036b": {
      "model_module": "@jupyter-widgets/controls",
      "model_module_version": "1.5.0",
      "model_name": "DescriptionStyleModel",
      "state": {
       "_model_module": "@jupyter-widgets/controls",
       "_model_module_version": "1.5.0",
       "_model_name": "DescriptionStyleModel",
       "_view_count": null,
       "_view_module": "@jupyter-widgets/base",
       "_view_module_version": "1.2.0",
       "_view_name": "StyleView",
       "description_width": ""
      }
     },
     "65c595a576264002a6f7acac1e5e580d": {
      "model_module": "@jupyter-widgets/base",
      "model_module_version": "1.2.0",
      "model_name": "LayoutModel",
      "state": {
       "_model_module": "@jupyter-widgets/base",
       "_model_module_version": "1.2.0",
       "_model_name": "LayoutModel",
       "_view_count": null,
       "_view_module": "@jupyter-widgets/base",
       "_view_module_version": "1.2.0",
       "_view_name": "LayoutView",
       "align_content": null,
       "align_items": null,
       "align_self": null,
       "border": null,
       "bottom": null,
       "display": null,
       "flex": null,
       "flex_flow": null,
       "grid_area": null,
       "grid_auto_columns": null,
       "grid_auto_flow": null,
       "grid_auto_rows": null,
       "grid_column": null,
       "grid_gap": null,
       "grid_row": null,
       "grid_template_areas": null,
       "grid_template_columns": null,
       "grid_template_rows": null,
       "height": null,
       "justify_content": null,
       "justify_items": null,
       "left": null,
       "margin": null,
       "max_height": null,
       "max_width": null,
       "min_height": null,
       "min_width": null,
       "object_fit": null,
       "object_position": null,
       "order": null,
       "overflow": null,
       "overflow_x": null,
       "overflow_y": null,
       "padding": null,
       "right": null,
       "top": null,
       "visibility": null,
       "width": null
      }
     },
     "7f12e64efe3d4f27a0e0e747a8efe122": {
      "model_module": "@jupyter-widgets/controls",
      "model_module_version": "1.5.0",
      "model_name": "DescriptionStyleModel",
      "state": {
       "_model_module": "@jupyter-widgets/controls",
       "_model_module_version": "1.5.0",
       "_model_name": "DescriptionStyleModel",
       "_view_count": null,
       "_view_module": "@jupyter-widgets/base",
       "_view_module_version": "1.2.0",
       "_view_name": "StyleView",
       "description_width": ""
      }
     },
     "9faeaa7dae164ccca55c963823fa2224": {
      "model_module": "@jupyter-widgets/base",
      "model_module_version": "1.2.0",
      "model_name": "LayoutModel",
      "state": {
       "_model_module": "@jupyter-widgets/base",
       "_model_module_version": "1.2.0",
       "_model_name": "LayoutModel",
       "_view_count": null,
       "_view_module": "@jupyter-widgets/base",
       "_view_module_version": "1.2.0",
       "_view_name": "LayoutView",
       "align_content": null,
       "align_items": null,
       "align_self": null,
       "border": null,
       "bottom": null,
       "display": null,
       "flex": null,
       "flex_flow": null,
       "grid_area": null,
       "grid_auto_columns": null,
       "grid_auto_flow": null,
       "grid_auto_rows": null,
       "grid_column": null,
       "grid_gap": null,
       "grid_row": null,
       "grid_template_areas": null,
       "grid_template_columns": null,
       "grid_template_rows": null,
       "height": null,
       "justify_content": null,
       "justify_items": null,
       "left": null,
       "margin": null,
       "max_height": null,
       "max_width": null,
       "min_height": null,
       "min_width": null,
       "object_fit": null,
       "object_position": null,
       "order": null,
       "overflow": null,
       "overflow_x": null,
       "overflow_y": null,
       "padding": null,
       "right": null,
       "top": null,
       "visibility": null,
       "width": null
      }
     },
     "a6020845c866413ea03558487a488dad": {
      "model_module": "@jupyter-widgets/controls",
      "model_module_version": "1.5.0",
      "model_name": "DescriptionStyleModel",
      "state": {
       "_model_module": "@jupyter-widgets/controls",
       "_model_module_version": "1.5.0",
       "_model_name": "DescriptionStyleModel",
       "_view_count": null,
       "_view_module": "@jupyter-widgets/base",
       "_view_module_version": "1.2.0",
       "_view_name": "StyleView",
       "description_width": ""
      }
     },
     "a6e5cb829f454da8a01c4ae44abcddbc": {
      "model_module": "@jupyter-widgets/base",
      "model_module_version": "1.2.0",
      "model_name": "LayoutModel",
      "state": {
       "_model_module": "@jupyter-widgets/base",
       "_model_module_version": "1.2.0",
       "_model_name": "LayoutModel",
       "_view_count": null,
       "_view_module": "@jupyter-widgets/base",
       "_view_module_version": "1.2.0",
       "_view_name": "LayoutView",
       "align_content": null,
       "align_items": null,
       "align_self": null,
       "border": null,
       "bottom": null,
       "display": null,
       "flex": null,
       "flex_flow": null,
       "grid_area": null,
       "grid_auto_columns": null,
       "grid_auto_flow": null,
       "grid_auto_rows": null,
       "grid_column": null,
       "grid_gap": null,
       "grid_row": null,
       "grid_template_areas": null,
       "grid_template_columns": null,
       "grid_template_rows": null,
       "height": null,
       "justify_content": null,
       "justify_items": null,
       "left": null,
       "margin": null,
       "max_height": null,
       "max_width": null,
       "min_height": null,
       "min_width": null,
       "object_fit": null,
       "object_position": null,
       "order": null,
       "overflow": null,
       "overflow_x": null,
       "overflow_y": null,
       "padding": null,
       "right": null,
       "top": null,
       "visibility": null,
       "width": null
      }
     },
     "ba15641558654e9791469d7d912a2048": {
      "model_module": "@jupyter-widgets/base",
      "model_module_version": "1.2.0",
      "model_name": "LayoutModel",
      "state": {
       "_model_module": "@jupyter-widgets/base",
       "_model_module_version": "1.2.0",
       "_model_name": "LayoutModel",
       "_view_count": null,
       "_view_module": "@jupyter-widgets/base",
       "_view_module_version": "1.2.0",
       "_view_name": "LayoutView",
       "align_content": null,
       "align_items": null,
       "align_self": null,
       "border": null,
       "bottom": null,
       "display": null,
       "flex": null,
       "flex_flow": null,
       "grid_area": null,
       "grid_auto_columns": null,
       "grid_auto_flow": null,
       "grid_auto_rows": null,
       "grid_column": null,
       "grid_gap": null,
       "grid_row": null,
       "grid_template_areas": null,
       "grid_template_columns": null,
       "grid_template_rows": null,
       "height": null,
       "justify_content": null,
       "justify_items": null,
       "left": null,
       "margin": null,
       "max_height": null,
       "max_width": null,
       "min_height": null,
       "min_width": null,
       "object_fit": null,
       "object_position": null,
       "order": null,
       "overflow": null,
       "overflow_x": null,
       "overflow_y": null,
       "padding": null,
       "right": null,
       "top": null,
       "visibility": null,
       "width": null
      }
     },
     "c59139494d4847b087a07169bda56f3d": {
      "model_module": "@jupyter-widgets/base",
      "model_module_version": "1.2.0",
      "model_name": "LayoutModel",
      "state": {
       "_model_module": "@jupyter-widgets/base",
       "_model_module_version": "1.2.0",
       "_model_name": "LayoutModel",
       "_view_count": null,
       "_view_module": "@jupyter-widgets/base",
       "_view_module_version": "1.2.0",
       "_view_name": "LayoutView",
       "align_content": null,
       "align_items": null,
       "align_self": null,
       "border": null,
       "bottom": null,
       "display": null,
       "flex": null,
       "flex_flow": null,
       "grid_area": null,
       "grid_auto_columns": null,
       "grid_auto_flow": null,
       "grid_auto_rows": null,
       "grid_column": null,
       "grid_gap": null,
       "grid_row": null,
       "grid_template_areas": null,
       "grid_template_columns": null,
       "grid_template_rows": null,
       "height": null,
       "justify_content": null,
       "justify_items": null,
       "left": null,
       "margin": null,
       "max_height": null,
       "max_width": null,
       "min_height": null,
       "min_width": null,
       "object_fit": null,
       "object_position": null,
       "order": null,
       "overflow": null,
       "overflow_x": null,
       "overflow_y": null,
       "padding": null,
       "right": null,
       "top": null,
       "visibility": null,
       "width": null
      }
     },
     "d81e695a69854238b68940453fd81e62": {
      "model_module": "@jupyter-widgets/controls",
      "model_module_version": "1.5.0",
      "model_name": "FloatProgressModel",
      "state": {
       "_dom_classes": [],
       "_model_module": "@jupyter-widgets/controls",
       "_model_module_version": "1.5.0",
       "_model_name": "FloatProgressModel",
       "_view_count": null,
       "_view_module": "@jupyter-widgets/controls",
       "_view_module_version": "1.5.0",
       "_view_name": "ProgressView",
       "bar_style": "success",
       "description": "",
       "description_tooltip": null,
       "layout": "IPY_MODEL_ba15641558654e9791469d7d912a2048",
       "max": 6545.0,
       "min": 0.0,
       "orientation": "horizontal",
       "style": "IPY_MODEL_349ac73ad1904f0b896b9bdf1cfcaa30",
       "value": 6545.0
      }
     },
     "efdce68211d449fd9b8f42c368ff7fb5": {
      "model_module": "@jupyter-widgets/controls",
      "model_module_version": "1.5.0",
      "model_name": "DescriptionStyleModel",
      "state": {
       "_model_module": "@jupyter-widgets/controls",
       "_model_module_version": "1.5.0",
       "_model_name": "DescriptionStyleModel",
       "_view_count": null,
       "_view_module": "@jupyter-widgets/base",
       "_view_module_version": "1.2.0",
       "_view_name": "StyleView",
       "description_width": ""
      }
     },
     "f1d5276dcc894f60b9a302f762d68c0b": {
      "model_module": "@jupyter-widgets/controls",
      "model_module_version": "1.5.0",
      "model_name": "HBoxModel",
      "state": {
       "_dom_classes": [],
       "_model_module": "@jupyter-widgets/controls",
       "_model_module_version": "1.5.0",
       "_model_name": "HBoxModel",
       "_view_count": null,
       "_view_module": "@jupyter-widgets/controls",
       "_view_module_version": "1.5.0",
       "_view_name": "HBoxView",
       "box_style": "",
       "children": [
        "IPY_MODEL_43c94bbf97fa45db86bea79d5febcfba",
        "IPY_MODEL_5a1a972e48124b3fa18735a12903c6d7",
        "IPY_MODEL_2b58216a4ccb4c2f9eada493c0f32d49"
       ],
       "layout": "IPY_MODEL_9faeaa7dae164ccca55c963823fa2224"
      }
     },
     "f6d9e309dfa34d5787cb6114e1cb18a4": {
      "model_module": "@jupyter-widgets/controls",
      "model_module_version": "1.5.0",
      "model_name": "HBoxModel",
      "state": {
       "_dom_classes": [],
       "_model_module": "@jupyter-widgets/controls",
       "_model_module_version": "1.5.0",
       "_model_name": "HBoxModel",
       "_view_count": null,
       "_view_module": "@jupyter-widgets/controls",
       "_view_module_version": "1.5.0",
       "_view_name": "HBoxView",
       "box_style": "",
       "children": [
        "IPY_MODEL_39d564b2910240f7a34c8eb468e5c9a2",
        "IPY_MODEL_d81e695a69854238b68940453fd81e62",
        "IPY_MODEL_0a44dd8ad92a4e37a2e026f696a684ec"
       ],
       "layout": "IPY_MODEL_65c595a576264002a6f7acac1e5e580d"
      }
     }
    },
    "version_major": 2,
    "version_minor": 0
   }
  }
 },
 "nbformat": 4,
 "nbformat_minor": 5
}
