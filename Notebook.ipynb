{
 "cells": [
  {
   "cell_type": "markdown",
   "id": "584bf926",
   "metadata": {
    "papermill": {
     "duration": 0.005914,
     "end_time": "2024-04-20T22:52:47.149393",
     "exception": false,
     "start_time": "2024-04-20T22:52:47.143479",
     "status": "completed"
    },
    "tags": []
   },
   "source": [
    "- Notebook modified from https://www.kaggle.com/code/markwijkhuizen/planttraits2024-eda-training-pub.\n",
    "- Training only, EDA part not included.\n",
    "- Image model only, tabular data not used."
   ]
  },
  {
   "cell_type": "code",
   "execution_count": 1,
   "id": "58a02ca7",
   "metadata": {
    "execution": {
     "iopub.execute_input": "2024-04-20T22:52:47.162161Z",
     "iopub.status.busy": "2024-04-20T22:52:47.161809Z",
     "iopub.status.idle": "2024-04-20T22:52:59.891458Z",
     "shell.execute_reply": "2024-04-20T22:52:59.890289Z"
    },
    "papermill": {
     "duration": 12.738849,
     "end_time": "2024-04-20T22:52:59.894166",
     "exception": false,
     "start_time": "2024-04-20T22:52:47.155317",
     "status": "completed"
    },
    "tags": []
   },
   "outputs": [],
   "source": [
    "import numpy as np\n",
    "import pandas as pd\n",
    "import matplotlib.pyplot as plt\n",
    "import imageio.v3 as imageio\n",
    "import albumentations as A\n",
    "\n",
    "from albumentations.pytorch import ToTensorV2\n",
    "from torch.utils.data import Dataset, DataLoader\n",
    "from torch import nn\n",
    "from tqdm.notebook import tqdm\n",
    "from sklearn.preprocessing import StandardScaler\n",
    "\n",
    "import torch\n",
    "import timm\n",
    "import glob\n",
    "import torchmetrics\n",
    "import time\n",
    "import psutil\n",
    "import os\n",
    "\n",
    "tqdm.pandas()"
   ]
  },
  {
   "cell_type": "code",
   "execution_count": 2,
   "id": "2819a6a5",
   "metadata": {
    "execution": {
     "iopub.execute_input": "2024-04-20T22:52:59.907165Z",
     "iopub.status.busy": "2024-04-20T22:52:59.906804Z",
     "iopub.status.idle": "2024-04-20T22:52:59.913221Z",
     "shell.execute_reply": "2024-04-20T22:52:59.912345Z"
    },
    "papermill": {
     "duration": 0.015149,
     "end_time": "2024-04-20T22:52:59.915214",
     "exception": false,
     "start_time": "2024-04-20T22:52:59.900065",
     "status": "completed"
    },
    "tags": []
   },
   "outputs": [],
   "source": [
    "class Config():\n",
    "    IMAGE_SIZE = 384\n",
    "    BACKBONE = 'swin_large_patch4_window12_384.ms_in22k_ft_in1k'\n",
    "    TARGET_COLUMNS = ['X4_mean', 'X11_mean', 'X18_mean', 'X50_mean', 'X26_mean', 'X3112_mean']\n",
    "    N_TARGETS = len(TARGET_COLUMNS)\n",
    "    BATCH_SIZE = 10\n",
    "    LR_MAX = 1e-4\n",
    "    WEIGHT_DECAY = 0.01\n",
    "    N_EPOCHS = 6\n",
    "    TRAIN_MODEL = True\n",
    "    IS_INTERACTIVE = os.environ['KAGGLE_KERNEL_RUN_TYPE'] == 'Interactive'\n",
    "    USE_PKL_DATASET = True\n",
    "    BUILD_VALID_SET = False\n",
    "    USE_SMALL_DATASET = True\n",
    "    USE_VALID_SET = True\n",
    "    USE_MODIFIED_TRAIN = False\n",
    "        \n",
    "CONFIG = Config()"
   ]
  },
  {
   "cell_type": "code",
   "execution_count": 3,
   "id": "2d69c67a",
   "metadata": {
    "execution": {
     "iopub.execute_input": "2024-04-20T22:52:59.927688Z",
     "iopub.status.busy": "2024-04-20T22:52:59.927393Z",
     "iopub.status.idle": "2024-04-20T22:53:06.298842Z",
     "shell.execute_reply": "2024-04-20T22:53:06.297849Z"
    },
    "papermill": {
     "duration": 6.380646,
     "end_time": "2024-04-20T22:53:06.301383",
     "exception": false,
     "start_time": "2024-04-20T22:52:59.920737",
     "status": "completed"
    },
    "tags": []
   },
   "outputs": [
    {
     "name": "stdout",
     "output_type": "stream",
     "text": [
      "N_TRAIN_SAMPLES: 8857 N_TEST_SAMPLES: 6545\n"
     ]
    }
   ],
   "source": [
    "if CONFIG.USE_PKL_DATASET is False:\n",
    "    train = pd.read_csv('/kaggle/input/planttraits2024/train.csv')\n",
    "    train['file_path'] = train['id'].apply(lambda s: f'/kaggle/input/planttraits2024/train_images/{s}.jpeg')\n",
    "    train['jpeg_bytes'] = train['file_path'].progress_apply(lambda fp: open(fp, 'rb').read())\n",
    "    train.to_pickle('train.pkl')\n",
    "    test = pd.read_csv('/kaggle/input/planttraits2024/test.csv')\n",
    "    test['file_path'] = test['id'].apply(lambda s: f'/kaggle/input/planttraits2024/test_images/{s}.jpeg')\n",
    "    test['jpeg_bytes'] = test['file_path'].progress_apply(lambda fp: open(fp, 'rb').read())\n",
    "    test.to_pickle('test.pkl')\n",
    "else:\n",
    "    if CONFIG.USE_SMALL_DATASET is True:\n",
    "        train = pd.read_pickle('/kaggle/input/dataset-with-validation/small_train.pkl')       \n",
    "    elif CONFIG.USE_MODIFIED_TRAIN is True:\n",
    "        train = pd.read_pickle('/kaggle/input/dataset-with-validation/train_set.pkl')\n",
    "    else:\n",
    "         train = pd.read_pickle('/kaggle/input/baseline-model/train.pkl')\n",
    "    test = pd.read_pickle('/kaggle/input/baseline-model/test.pkl')\n",
    "\n",
    "for column in CONFIG.TARGET_COLUMNS:\n",
    "    lower_quantile = train[column].quantile(0.005)\n",
    "    upper_quantile = train[column].quantile(0.985)  \n",
    "    train = train[(train[column] >= lower_quantile) & (train[column] <= upper_quantile)]\n",
    "\n",
    "CONFIG.N_TRAIN_SAMPLES = len(train)\n",
    "CONFIG.N_STEPS_PER_EPOCH = (CONFIG.N_TRAIN_SAMPLES // CONFIG.BATCH_SIZE)\n",
    "CONFIG.N_STEPS = CONFIG.N_STEPS_PER_EPOCH * CONFIG.N_EPOCHS + 1\n",
    "\n",
    "print('N_TRAIN_SAMPLES:', len(train), 'N_TEST_SAMPLES:', len(test))"
   ]
  },
  {
   "cell_type": "code",
   "execution_count": 4,
   "id": "29f97d29",
   "metadata": {
    "execution": {
     "iopub.execute_input": "2024-04-20T22:53:06.314650Z",
     "iopub.status.busy": "2024-04-20T22:53:06.314339Z",
     "iopub.status.idle": "2024-04-20T22:53:06.336259Z",
     "shell.execute_reply": "2024-04-20T22:53:06.335120Z"
    },
    "papermill": {
     "duration": 0.031195,
     "end_time": "2024-04-20T22:53:06.338546",
     "exception": false,
     "start_time": "2024-04-20T22:53:06.307351",
     "status": "completed"
    },
    "tags": []
   },
   "outputs": [
    {
     "name": "stdout",
     "output_type": "stream",
     "text": [
      "6210 unique species found in 8857 records\n"
     ]
    }
   ],
   "source": [
    "#all columns must be identical to be consider the same species\n",
    "trait_columns = ['X4_mean', 'X11_mean', 'X18_mean', 'X50_mean', 'X26_mean', 'X3112_mean']\n",
    "train['species'] = train.groupby(CONFIG.TARGET_COLUMNS).ngroup()\n",
    "species_counts = train['species'].nunique()\n",
    "print (f\"{species_counts} unique species found in {len(train)} records\")"
   ]
  },
  {
   "cell_type": "code",
   "execution_count": 5,
   "id": "98e7261a",
   "metadata": {
    "execution": {
     "iopub.execute_input": "2024-04-20T22:53:06.352900Z",
     "iopub.status.busy": "2024-04-20T22:53:06.352596Z",
     "iopub.status.idle": "2024-04-20T22:53:06.776241Z",
     "shell.execute_reply": "2024-04-20T22:53:06.775112Z"
    },
    "papermill": {
     "duration": 0.433668,
     "end_time": "2024-04-20T22:53:06.778744",
     "exception": false,
     "start_time": "2024-04-20T22:53:06.345076",
     "status": "completed"
    },
    "tags": []
   },
   "outputs": [
    {
     "data": {
      "image/png": "[encoded data removed]",
      "text/plain": [
       "<Figure size 700x300 with 1 Axes>"
      ]
     },
     "metadata": {},
     "output_type": "display_data"
    }
   ],
   "source": [
    "species_counts = train['species'].value_counts()\n",
    "count_summary = species_counts.value_counts().sort_index()\n",
    "count_summary.plot(kind='bar', figsize=(7, 3))\n",
    "\n",
    "plt.title('Images per Species')\n",
    "plt.xlabel('Images')\n",
    "plt.ylabel('Species')\n",
    "plt.tight_layout() \n",
    "plt.show()"
   ]
  },
  {
   "cell_type": "code",
   "execution_count": 6,
   "id": "4a258e39",
   "metadata": {
    "execution": {
     "iopub.execute_input": "2024-04-20T22:53:06.800456Z",
     "iopub.status.busy": "2024-04-20T22:53:06.800052Z",
     "iopub.status.idle": "2024-04-20T22:53:12.930138Z",
     "shell.execute_reply": "2024-04-20T22:53:12.929213Z"
    },
    "papermill": {
     "duration": 6.147121,
     "end_time": "2024-04-20T22:53:12.932669",
     "exception": false,
     "start_time": "2024-04-20T22:53:06.785548",
     "status": "completed"
    },
    "tags": []
   },
   "outputs": [],
   "source": [
    "if CONFIG.BUILD_VALID_SET is True:\n",
    "    unique_species = train['species'].unique()\n",
    "    n_test_species_exclusive = 2\n",
    "\n",
    "    # Randomly pick exclusive test species\n",
    "    test_species_exclusive = np.random.choice(unique_species, n_test_species_exclusive, replace=False)\n",
    "\n",
    "    # Isolate exclusive test species data\n",
    "    exclusive_test_set = train[train['species'].isin(test_species_exclusive)]\n",
    "\n",
    "    # Remove exclusive test species from main data\n",
    "    train_reduced = train[~train['species'].isin(test_species_exclusive)]\n",
    "    print(len(train_reduced))\n",
    "    test_set_common = pd.DataFrame()\n",
    "    for species in train_reduced['species'].unique():\n",
    "        species_data = train_reduced[train_reduced['species'] == species]\n",
    "        sample = species_data.sample(1, random_state=42) \n",
    "        test_set_common = pd.concat([test_set_common, sample])\n",
    "\n",
    "    # Remove these samples from train\n",
    "    train_set = train_reduced.drop(test_set_common.index)\n",
    "\n",
    "    valid_set = pd.concat([exclusive_test_set, test_set_common])\n",
    "#     train_set.to_pickle('train_set.pkl')\n",
    "#     valid_set.to_pickle('valid_set.pkl')\n",
    "    \n",
    "    print(f\"Training set size: {len(train_set)}\")\n",
    "    print(f\"Valid set size: {len(final_test_set)}\")\n",
    "    print(f\"Unique species in Training set: {train_set['species'].nunique()}\")\n",
    "    print(f\"Unique species in Valid set: {final_test_set['species'].nunique()}\")\n",
    "    train = train_set\n",
    "elif CONFIG.USE_VALID_SET is True:\n",
    "    valid_set = pd.read_pickle('/kaggle/input/dataset-with-validation/valid_set.pkl')\n",
    "    "
   ]
  },
  {
   "cell_type": "code",
   "execution_count": 7,
   "id": "14bb8137",
   "metadata": {
    "execution": {
     "iopub.execute_input": "2024-04-20T22:53:12.948154Z",
     "iopub.status.busy": "2024-04-20T22:53:12.947145Z",
     "iopub.status.idle": "2024-04-20T22:53:12.952445Z",
     "shell.execute_reply": "2024-04-20T22:53:12.951648Z"
    },
    "papermill": {
     "duration": 0.015101,
     "end_time": "2024-04-20T22:53:12.954489",
     "exception": false,
     "start_time": "2024-04-20T22:53:12.939388",
     "status": "completed"
    },
    "tags": []
   },
   "outputs": [],
   "source": [
    "def create_small_dataset(train):\n",
    "    small_dataset = train.sample(n=10000)\n",
    "    small_dataset.to_pickle('small_train.pkl')\n",
    "# create_small_dataset(train_set)"
   ]
  },
  {
   "cell_type": "code",
   "execution_count": 8,
   "id": "725d8036",
   "metadata": {
    "execution": {
     "iopub.execute_input": "2024-04-20T22:53:12.968450Z",
     "iopub.status.busy": "2024-04-20T22:53:12.968172Z",
     "iopub.status.idle": "2024-04-20T22:53:12.979822Z",
     "shell.execute_reply": "2024-04-20T22:53:12.978773Z"
    },
    "papermill": {
     "duration": 0.021096,
     "end_time": "2024-04-20T22:53:12.982038",
     "exception": false,
     "start_time": "2024-04-20T22:53:12.960942",
     "status": "completed"
    },
    "tags": []
   },
   "outputs": [],
   "source": [
    "LOG_FEATURES = ['X4_mean', 'X11_mean', 'X18_mean', 'X50_mean', 'X26_mean', 'X3112_mean']\n",
    "\n",
    "y_train = np.zeros_like(train[CONFIG.TARGET_COLUMNS], dtype=np.float32)\n",
    "for target_idx, target in enumerate(CONFIG.TARGET_COLUMNS):\n",
    "    v = train[target].values\n",
    "    if target in LOG_FEATURES:\n",
    "        v = np.log10(v)\n",
    "    y_train[:, target_idx] = v\n",
    "\n",
    "SCALER = StandardScaler()\n",
    "y_train = SCALER.fit_transform(y_train)"
   ]
  },
  {
   "cell_type": "code",
   "execution_count": 9,
   "id": "4012e930",
   "metadata": {
    "execution": {
     "iopub.execute_input": "2024-04-20T22:53:12.996138Z",
     "iopub.status.busy": "2024-04-20T22:53:12.995805Z",
     "iopub.status.idle": "2024-04-20T22:53:13.022252Z",
     "shell.execute_reply": "2024-04-20T22:53:13.021179Z"
    },
    "papermill": {
     "duration": 0.036407,
     "end_time": "2024-04-20T22:53:13.024740",
     "exception": false,
     "start_time": "2024-04-20T22:53:12.988333",
     "status": "completed"
    },
    "tags": []
   },
   "outputs": [],
   "source": [
    "MEAN = np.array([0.485, 0.456, 0.406])\n",
    "STD = np.array([0.229, 0.224, 0.225])\n",
    "\n",
    "TRAIN_TRANSFORMS = A.Compose([\n",
    "        A.HorizontalFlip(p=0.5),\n",
    "        A.RandomSizedCrop(\n",
    "            [448, 512],\n",
    "            CONFIG.IMAGE_SIZE, CONFIG.IMAGE_SIZE, w2h_ratio=1.0, p=0.75),\n",
    "        A.Resize(CONFIG.IMAGE_SIZE, CONFIG.IMAGE_SIZE),\n",
    "        A.RandomBrightnessContrast(brightness_limit=0.1, contrast_limit=0.1, p=0.25),\n",
    "        A.ImageCompression(quality_lower=85, quality_upper=100, p=0.25),\n",
    "        A.ToFloat(),\n",
    "        A.Normalize(mean=MEAN, std=STD, max_pixel_value=1),\n",
    "        ToTensorV2(),\n",
    "    ])\n",
    "\n",
    "TEST_TRANSFORMS = A.Compose([\n",
    "        A.Resize(CONFIG.IMAGE_SIZE, CONFIG.IMAGE_SIZE),\n",
    "        A.ToFloat(),\n",
    "        A.Normalize(mean=MEAN, std=STD, max_pixel_value=1),\n",
    "        ToTensorV2(),\n",
    "    ])\n",
    "\n",
    "class Dataset(Dataset):\n",
    "    def __init__(self, X_jpeg_bytes, y, transforms=None):\n",
    "        self.X_jpeg_bytes = X_jpeg_bytes\n",
    "        self.y = y\n",
    "        self.transforms = transforms\n",
    "\n",
    "    def __len__(self):\n",
    "        return len(self.X_jpeg_bytes)\n",
    "\n",
    "    def __getitem__(self, index):\n",
    "        X_sample = self.transforms(\n",
    "            image=imageio.imread(self.X_jpeg_bytes[index]),\n",
    "        )['image']\n",
    "\n",
    "        y_sample = self.y[index]\n",
    "  \n",
    "        return X_sample, y_sample\n",
    "\n",
    "    \n",
    "if CONFIG.USE_VALID_SET is True:\n",
    "    y_valid = np.zeros_like(valid_set[CONFIG.TARGET_COLUMNS], dtype=np.float32)\n",
    "    for target_idx, target in enumerate(CONFIG.TARGET_COLUMNS):\n",
    "        v = valid_set[target].values\n",
    "        if target in LOG_FEATURES:\n",
    "            v = np.log10(v)\n",
    "        y_valid[:, target_idx] = v\n",
    "\n",
    "    SCALER = StandardScaler()\n",
    "    y_valid = SCALER.fit_transform(y_valid)\n",
    "    valid_dataset = Dataset( \n",
    "        valid_set['jpeg_bytes'].values,\n",
    "        y_valid,\n",
    "        TEST_TRANSFORMS,\n",
    "    )\n",
    "    valid_dataloader = DataLoader(\n",
    "        valid_dataset,\n",
    "        shuffle=False,\n",
    "        batch_size=CONFIG.BATCH_SIZE,\n",
    "        num_workers=psutil.cpu_count(),\n",
    ")\n",
    "\n",
    "    \n",
    "train_dataset = Dataset(\n",
    "    train['jpeg_bytes'].values,\n",
    "    y_train,\n",
    "    TRAIN_TRANSFORMS,\n",
    ")\n",
    "\n",
    "train_dataloader = DataLoader(\n",
    "        train_dataset,\n",
    "        batch_size=CONFIG.BATCH_SIZE,\n",
    "        shuffle=True,\n",
    "        drop_last=True,\n",
    "        num_workers=psutil.cpu_count(),\n",
    ")\n",
    "\n",
    "test_dataset = Dataset(\n",
    "    test['jpeg_bytes'].values,\n",
    "    test['id'].values,\n",
    "    TEST_TRANSFORMS,\n",
    ")   "
   ]
  },
  {
   "cell_type": "code",
   "execution_count": 10,
   "id": "a9ac4cd8",
   "metadata": {
    "execution": {
     "iopub.execute_input": "2024-04-20T22:53:13.039218Z",
     "iopub.status.busy": "2024-04-20T22:53:13.038947Z",
     "iopub.status.idle": "2024-04-20T22:53:22.176745Z",
     "shell.execute_reply": "2024-04-20T22:53:22.175810Z"
    },
    "papermill": {
     "duration": 9.147712,
     "end_time": "2024-04-20T22:53:22.179432",
     "exception": false,
     "start_time": "2024-04-20T22:53:13.031720",
     "status": "completed"
    },
    "tags": []
   },
   "outputs": [
    {
     "data": {
      "application/vnd.jupyter.widget-view+json": {
       "model_id": "6c766b285c614ee0978bd5d677b547be",
       "version_major": 2,
       "version_minor": 0
      },
      "text/plain": [
       "model.safetensors:   0%|          | 0.00/801M [00:00<?, ?B/s]"
      ]
     },
     "metadata": {},
     "output_type": "display_data"
    }
   ],
   "source": [
    "class Model(nn.Module):\n",
    "    def __init__(self):\n",
    "        super().__init__()\n",
    "        self.backbone = timm.create_model(\n",
    "                CONFIG.BACKBONE,\n",
    "                num_classes=CONFIG.N_TARGETS,\n",
    "                pretrained=True)\n",
    "        \n",
    "    def forward(self, inputs):\n",
    "        return self.backbone(inputs)\n",
    "\n",
    "model = Model()\n",
    "model = model.to('cuda')\n",
    "# print(model)"
   ]
  },
  {
   "cell_type": "code",
   "execution_count": 11,
   "id": "6fd774f4",
   "metadata": {
    "execution": {
     "iopub.execute_input": "2024-04-20T22:53:22.194899Z",
     "iopub.status.busy": "2024-04-20T22:53:22.194556Z",
     "iopub.status.idle": "2024-04-20T22:53:22.218069Z",
     "shell.execute_reply": "2024-04-20T22:53:22.217234Z"
    },
    "papermill": {
     "duration": 0.033703,
     "end_time": "2024-04-20T22:53:22.220339",
     "exception": false,
     "start_time": "2024-04-20T22:53:22.186636",
     "status": "completed"
    },
    "tags": []
   },
   "outputs": [],
   "source": [
    "def get_lr_scheduler(optimizer):\n",
    "    return torch.optim.lr_scheduler.OneCycleLR(\n",
    "        optimizer=optimizer,\n",
    "        max_lr=CONFIG.LR_MAX,\n",
    "        total_steps=CONFIG.N_STEPS,\n",
    "        pct_start=0.1,\n",
    "        anneal_strategy='cos',\n",
    "        div_factor=1e1,\n",
    "        final_div_factor=1e1,\n",
    "    )\n",
    "\n",
    "class AverageMeter(object):\n",
    "    def __init__(self):\n",
    "        self.reset()\n",
    "\n",
    "    def reset(self):\n",
    "        self.avg = 0\n",
    "        self.sum = 0\n",
    "        self.count = 0\n",
    "\n",
    "    def update(self, val):\n",
    "        self.sum += val.sum()\n",
    "        self.count += val.numel()\n",
    "        self.avg = self.sum / self.count\n",
    "\n",
    "MAE = torchmetrics.regression.MeanAbsoluteError().to('cuda')\n",
    "R2 = torchmetrics.regression.R2Score(num_outputs=CONFIG.N_TARGETS, multioutput='uniform_average').to('cuda')\n",
    "LOSS = AverageMeter()\n",
    "\n",
    "Y_MEAN = torch.tensor(y_train).mean(dim=0).to('cuda')\n",
    "EPS = torch.tensor([1e-6]).to('cuda')\n",
    "\n",
    "def r2_loss(y_pred, y_true):\n",
    "    ss_res = torch.sum((y_true - y_pred)**2, dim=0)\n",
    "    ss_total = torch.sum((y_true - Y_MEAN)**2, dim=0)\n",
    "    ss_total = torch.maximum(ss_total, EPS)\n",
    "    r2 = torch.mean(ss_res / ss_total)\n",
    "    return r2\n",
    "\n",
    "LOSS_FN = nn.SmoothL1Loss() # r2_loss\n",
    "\n",
    "optimizer = torch.optim.AdamW(\n",
    "    params=model.parameters(),\n",
    "    lr=CONFIG.LR_MAX,\n",
    "    weight_decay=CONFIG.WEIGHT_DECAY,\n",
    ")\n",
    "\n",
    "LR_SCHEDULER = get_lr_scheduler(optimizer)"
   ]
  },
  {
   "cell_type": "code",
   "execution_count": 12,
   "id": "b26f337e",
   "metadata": {
    "execution": {
     "iopub.execute_input": "2024-04-20T22:53:22.237472Z",
     "iopub.status.busy": "2024-04-20T22:53:22.237172Z",
     "iopub.status.idle": "2024-04-21T00:43:36.900376Z",
     "shell.execute_reply": "2024-04-21T00:43:36.899124Z"
    },
    "papermill": {
     "duration": 6614.673704,
     "end_time": "2024-04-21T00:43:36.903022",
     "exception": false,
     "start_time": "2024-04-20T22:53:22.229318",
     "status": "completed"
    },
    "tags": []
   },
   "outputs": [
    {
     "name": "stdout",
     "output_type": "stream",
     "text": [
      "Start Training:\n",
      "EPOCH 01, 0885/885 | loss: 0.3203, mae: 0.6649, r2: 0.2747, step: 1.356s, lr: 9.87e-05\n",
      "EPOCH 02, 0885/885 | loss: 0.2518, mae: 0.5724, r2: 0.4425, step: 1.249s, lr: 8.45e-05\n",
      "EPOCH 03, 0885/885 | loss: 0.1876, mae: 0.4798, r2: 0.5952, step: 1.245s, lr: 5.91e-05\n",
      "EPOCH 04, 0885/885 | loss: 0.1224, mae: 0.3772, r2: 0.7436, step: 1.245s, lr: 3.09e-05\n",
      "EPOCH 05, 0885/885 | loss: 0.0756, mae: 0.2919, r2: 0.8452, step: 1.242s, lr: 9.14e-06\n",
      "EPOCH 06, 0885/885 | loss: 0.0541, mae: 0.2455, r2: 0.8899, step: 1.244s, lr: 1.00e-06\n"
     ]
    }
   ],
   "source": [
    "if CONFIG.TRAIN_MODEL is True:\n",
    "    print(\"Start Training:\")\n",
    "    for epoch in range(CONFIG.N_EPOCHS):\n",
    "        MAE.reset()\n",
    "        R2.reset()\n",
    "        LOSS.reset()\n",
    "        model.train()\n",
    "\n",
    "        for step, (X_batch, y_true) in enumerate(train_dataloader):\n",
    "            X_batch = X_batch.to('cuda')\n",
    "            y_true = y_true.to('cuda')\n",
    "            t_start = time.perf_counter_ns()\n",
    "            y_pred = model(X_batch)\n",
    "            loss = LOSS_FN(y_pred, y_true)\n",
    "            LOSS.update(loss)\n",
    "            loss.backward()\n",
    "            optimizer.step()\n",
    "            optimizer.zero_grad()\n",
    "            LR_SCHEDULER.step()\n",
    "            MAE.update(y_pred, y_true)\n",
    "            R2.update(y_pred, y_true)\n",
    "\n",
    "            if not CONFIG.IS_INTERACTIVE and (step+1) == CONFIG.N_STEPS_PER_EPOCH:\n",
    "                print(\n",
    "                    f'EPOCH {epoch+1:02d}, {step+1:04d}/{CONFIG.N_STEPS_PER_EPOCH} | ' + \n",
    "                    f'loss: {LOSS.avg:.4f}, mae: {MAE.compute().item():.4f}, r2: {R2.compute().item():.4f}, ' +\n",
    "                    f'step: {(time.perf_counter_ns()-t_start)*1e-9:.3f}s, lr: {LR_SCHEDULER.get_last_lr()[0]:.2e}',\n",
    "                )\n",
    "            elif CONFIG.IS_INTERACTIVE:\n",
    "                print(\n",
    "                    f'\\rEPOCH {epoch+1:02d}, {step+1:04d}/{CONFIG.N_STEPS_PER_EPOCH} | ' + \n",
    "                    f'loss: {LOSS.avg:.4f}, mae: {MAE.compute().item():.4f}, r2: {R2.compute().item():.4f}, ' +\n",
    "                    f'step: {(time.perf_counter_ns()-t_start)*1e-9:.3f}s, lr: {LR_SCHEDULER.get_last_lr()[0]:.2e}',\n",
    "                    end='\\n' if (step + 1) == CONFIG.N_STEPS_PER_EPOCH else '', flush=True,\n",
    "                )\n",
    "\n",
    "    torch.save(model, 'model.pth')\n",
    "else:\n",
    "    model = torch.load('/kaggle/input/baseline-model/model.pth')"
   ]
  },
  {
   "cell_type": "markdown",
   "id": "b4ddef23",
   "metadata": {
    "papermill": {
     "duration": 0.007226,
     "end_time": "2024-04-21T00:43:36.919566",
     "exception": false,
     "start_time": "2024-04-21T00:43:36.912340",
     "status": "completed"
    },
    "tags": []
   },
   "source": [
    "### Evaluation of the model"
   ]
  },
  {
   "cell_type": "code",
   "execution_count": 13,
   "id": "c70e4957",
   "metadata": {
    "execution": {
     "iopub.execute_input": "2024-04-21T00:43:36.935629Z",
     "iopub.status.busy": "2024-04-21T00:43:36.935256Z",
     "iopub.status.idle": "2024-04-21T00:56:07.996607Z",
     "shell.execute_reply": "2024-04-21T00:56:07.994832Z"
    },
    "papermill": {
     "duration": 751.079659,
     "end_time": "2024-04-21T00:56:08.006589",
     "exception": false,
     "start_time": "2024-04-21T00:43:36.926930",
     "status": "completed"
    },
    "tags": []
   },
   "outputs": [
    {
     "name": "stdout",
     "output_type": "stream",
     "text": [
      "Test Results - Loss: 0.2533, MAE: 0.5684, R2: 0.4287\n"
     ]
    }
   ],
   "source": [
    "model.eval()  # Set the model to evaluation mode\n",
    "test_MAE = torchmetrics.regression.MeanAbsoluteError().to('cuda')\n",
    "test_R2 = torchmetrics.regression.R2Score(num_outputs=CONFIG.N_TARGETS, multioutput='uniform_average').to('cuda')\n",
    "test_loss = AverageMeter()\n",
    "\n",
    "with torch.no_grad():  # Disable gradient computation for evaluation\n",
    "    for X_batch, y_true in valid_dataloader:\n",
    "        X_batch = X_batch.to('cuda')\n",
    "        y_true = y_true.to('cuda')\n",
    "        \n",
    "        # Predict and evaluate\n",
    "        y_pred = model(X_batch)\n",
    "        loss = LOSS_FN(y_pred, y_true)\n",
    "        test_loss.update(loss)\n",
    "        test_MAE.update(y_pred, y_true)\n",
    "        test_R2.update(y_pred, y_true)\n",
    "\n",
    "# Print test results\n",
    "print(\n",
    "    f'Test Results - Loss: {test_loss.avg:.4f}, MAE: {test_MAE.compute().item():.4f}, ' +\n",
    "    f'R2: {test_R2.compute().item():.4f}'\n",
    ")"
   ]
  },
  {
   "cell_type": "code",
   "execution_count": 14,
   "id": "712e90ed",
   "metadata": {
    "execution": {
     "iopub.execute_input": "2024-04-21T00:56:08.023490Z",
     "iopub.status.busy": "2024-04-21T00:56:08.023079Z",
     "iopub.status.idle": "2024-04-21T01:02:22.490369Z",
     "shell.execute_reply": "2024-04-21T01:02:22.489121Z"
    },
    "papermill": {
     "duration": 374.478513,
     "end_time": "2024-04-21T01:02:22.492708",
     "exception": false,
     "start_time": "2024-04-21T00:56:08.014195",
     "status": "completed"
    },
    "tags": []
   },
   "outputs": [
    {
     "data": {
      "application/vnd.jupyter.widget-view+json": {
       "model_id": "3f7a64d6da764cf3b38ec6f777c11566",
       "version_major": 2,
       "version_minor": 0
      },
      "text/plain": [
       "  0%|          | 0/6545 [00:00<?, ?it/s]"
      ]
     },
     "metadata": {},
     "output_type": "display_data"
    },
    {
     "name": "stdout",
     "output_type": "stream",
     "text": [
      "Submit!\n"
     ]
    }
   ],
   "source": [
    "SUBMISSION_ROWS = []\n",
    "model.eval()\n",
    "\n",
    "for X_sample_test, test_id in tqdm(test_dataset):\n",
    "    with torch.no_grad():\n",
    "        y_pred = model(X_sample_test.unsqueeze(0).to('cuda')).detach().cpu().numpy()\n",
    "    \n",
    "    y_pred = SCALER.inverse_transform(y_pred).squeeze()\n",
    "    row = {'id': test_id}\n",
    "    \n",
    "    for k, v in zip(CONFIG.TARGET_COLUMNS, y_pred):\n",
    "        if k in LOG_FEATURES:\n",
    "            row[k.replace('_mean', '')] = 10 ** v\n",
    "        else:\n",
    "            row[k.replace('_mean', '')] = v\n",
    "\n",
    "    SUBMISSION_ROWS.append(row)\n",
    "    \n",
    "submission_df = pd.DataFrame(SUBMISSION_ROWS)\n",
    "submission_df.to_csv('submission.csv', index=False)\n",
    "print(\"Submit!\")"
   ]
  },
  {
   "cell_type": "code",
   "execution_count": null,
   "id": "a4ea5525",
   "metadata": {
    "papermill": {
     "duration": 0.00763,
     "end_time": "2024-04-21T01:02:22.508436",
     "exception": false,
     "start_time": "2024-04-21T01:02:22.500806",
     "status": "completed"
    },
    "tags": []
   },
   "outputs": [],
   "source": []
  }
 ],
 "metadata": {
  "kaggle": {
   "accelerator": "gpu",
   "dataSources": [
    {
     "databundleVersionId": 8046133,
     "sourceId": 65626,
     "sourceType": "competition"
    },
    {
     "datasetId": 4816952,
     "sourceId": 8145845,
     "sourceType": "datasetVersion"
    },
    {
     "datasetId": 4819871,
     "sourceId": 8149784,
     "sourceType": "datasetVersion"
    },
    {
     "datasetId": 4841404,
     "sourceId": 8178456,
     "sourceType": "datasetVersion"
    }
   ],
   "isGpuEnabled": true,
   "isInternetEnabled": true,
   "language": "python",
   "sourceType": "notebook"
  },
  "kernelspec": {
   "display_name": "Python 3",
   "language": "python",
   "name": "python3"
  },
  "language_info": {
   "codemirror_mode": {
    "name": "ipython",
    "version": 3
   },
   "file_extension": ".py",
   "mimetype": "text/x-python",
   "name": "python",
   "nbconvert_exporter": "python",
   "pygments_lexer": "ipython3",
   "version": "3.10.13"
  },
  "papermill": {
   "default_parameters": {},
   "duration": 7781.253985,
   "end_time": "2024-04-21T01:02:25.456377",
   "environment_variables": {},
   "exception": null,
   "input_path": "__notebook__.ipynb",
   "output_path": "__notebook__.ipynb",
   "parameters": {},
   "start_time": "2024-04-20T22:52:44.202392",
   "version": "2.5.0"
  },
  "widgets": {
   "application/vnd.jupyter.widget-state+json": {
    "state": {
     "114e1f96645042f5bae1d7fae0bf30ae": {
      "model_module": "@jupyter-widgets/base",
      "model_module_version": "1.2.0",
      "model_name": "LayoutModel",
      "state": {
       "_model_module": "@jupyter-widgets/base",
       "_model_module_version": "1.2.0",
       "_model_name": "LayoutModel",
       "_view_count": null,
       "_view_module": "@jupyter-widgets/base",
       "_view_module_version": "1.2.0",
       "_view_name": "LayoutView",
       "align_content": null,
       "align_items": null,
       "align_self": null,
       "border": null,
       "bottom": null,
       "display": null,
       "flex": null,
       "flex_flow": null,
       "grid_area": null,
       "grid_auto_columns": null,
       "grid_auto_flow": null,
       "grid_auto_rows": null,
       "grid_column": null,
       "grid_gap": null,
       "grid_row": null,
       "grid_template_areas": null,
       "grid_template_columns": null,
       "grid_template_rows": null,
       "height": null,
       "justify_content": null,
       "justify_items": null,
       "left": null,
       "margin": null,
       "max_height": null,
       "max_width": null,
       "min_height": null,
       "min_width": null,
       "object_fit": null,
       "object_position": null,
       "order": null,
       "overflow": null,
       "overflow_x": null,
       "overflow_y": null,
       "padding": null,
       "right": null,
       "top": null,
       "visibility": null,
       "width": null
      }
     },
     "1626408bdbd841948a686ef9a9157264": {
      "model_module": "@jupyter-widgets/base",
      "model_module_version": "1.2.0",
      "model_name": "LayoutModel",
      "state": {
       "_model_module": "@jupyter-widgets/base",
       "_model_module_version": "1.2.0",
       "_model_name": "LayoutModel",
       "_view_count": null,
       "_view_module": "@jupyter-widgets/base",
       "_view_module_version": "1.2.0",
       "_view_name": "LayoutView",
       "align_content": null,
       "align_items": null,
       "align_self": null,
       "border": null,
       "bottom": null,
       "display": null,
       "flex": null,
       "flex_flow": null,
       "grid_area": null,
       "grid_auto_columns": null,
       "grid_auto_flow": null,
       "grid_auto_rows": null,
       "grid_column": null,
       "grid_gap": null,
       "grid_row": null,
       "grid_template_areas": null,
       "grid_template_columns": null,
       "grid_template_rows": null,
       "height": null,
       "justify_content": null,
       "justify_items": null,
       "left": null,
       "margin": null,
       "max_height": null,
       "max_width": null,
       "min_height": null,
       "min_width": null,
       "object_fit": null,
       "object_position": null,
       "order": null,
       "overflow": null,
       "overflow_x": null,
       "overflow_y": null,
       "padding": null,
       "right": null,
       "top": null,
       "visibility": null,
       "width": null
      }
     },
     "3349a24ff3d74a75a8d00c801435829c": {
      "model_module": "@jupyter-widgets/controls",
      "model_module_version": "1.5.0",
      "model_name": "HTMLModel",
      "state": {
       "_dom_classes": [],
       "_model_module": "@jupyter-widgets/controls",
       "_model_module_version": "1.5.0",
       "_model_name": "HTMLModel",
       "_view_count": null,
       "_view_module": "@jupyter-widgets/controls",
       "_view_module_version": "1.5.0",
       "_view_name": "HTMLView",
       "description": "",
       "description_tooltip": null,
       "layout": "IPY_MODEL_73740a1a8e004f6cbb31219617d3db0a",
       "placeholder": "​",
       "style": "IPY_MODEL_392e5d46f7fd4f5683e39b5f327f3525",
       "value": " 6545/6545 [06:14&lt;00:00, 17.52it/s]"
      }
     },
     "3641c15519314e2b801010ddb1413a34": {
      "model_module": "@jupyter-widgets/base",
      "model_module_version": "1.2.0",
      "model_name": "LayoutModel",
      "state": {
       "_model_module": "@jupyter-widgets/base",
       "_model_module_version": "1.2.0",
       "_model_name": "LayoutModel",
       "_view_count": null,
       "_view_module": "@jupyter-widgets/base",
       "_view_module_version": "1.2.0",
       "_view_name": "LayoutView",
       "align_content": null,
       "align_items": null,
       "align_self": null,
       "border": null,
       "bottom": null,
       "display": null,
       "flex": null,
       "flex_flow": null,
       "grid_area": null,
       "grid_auto_columns": null,
       "grid_auto_flow": null,
       "grid_auto_rows": null,
       "grid_column": null,
       "grid_gap": null,
       "grid_row": null,
       "grid_template_areas": null,
       "grid_template_columns": null,
       "grid_template_rows": null,
       "height": null,
       "justify_content": null,
       "justify_items": null,
       "left": null,
       "margin": null,
       "max_height": null,
       "max_width": null,
       "min_height": null,
       "min_width": null,
       "object_fit": null,
       "object_position": null,
       "order": null,
       "overflow": null,
       "overflow_x": null,
       "overflow_y": null,
       "padding": null,
       "right": null,
       "top": null,
       "visibility": null,
       "width": null
      }
     },
     "392e5d46f7fd4f5683e39b5f327f3525": {
      "model_module": "@jupyter-widgets/controls",
      "model_module_version": "1.5.0",
      "model_name": "DescriptionStyleModel",
      "state": {
       "_model_module": "@jupyter-widgets/controls",
       "_model_module_version": "1.5.0",
       "_model_name": "DescriptionStyleModel",
       "_view_count": null,
       "_view_module": "@jupyter-widgets/base",
       "_view_module_version": "1.2.0",
       "_view_name": "StyleView",
       "description_width": ""
      }
     },
     "3f7a64d6da764cf3b38ec6f777c11566": {
      "model_module": "@jupyter-widgets/controls",
      "model_module_version": "1.5.0",
      "model_name": "HBoxModel",
      "state": {
       "_dom_classes": [],
       "_model_module": "@jupyter-widgets/controls",
       "_model_module_version": "1.5.0",
       "_model_name": "HBoxModel",
       "_view_count": null,
       "_view_module": "@jupyter-widgets/controls",
       "_view_module_version": "1.5.0",
       "_view_name": "HBoxView",
       "box_style": "",
       "children": [
        "IPY_MODEL_66f96e0d2ba94e00b9552670a66e02b3",
        "IPY_MODEL_b298c65b40174ba29649e59be89e5e44",
        "IPY_MODEL_3349a24ff3d74a75a8d00c801435829c"
       ],
       "layout": "IPY_MODEL_3641c15519314e2b801010ddb1413a34"
      }
     },
     "472bbed343b84501b7d1c21c528326ab": {
      "model_module": "@jupyter-widgets/base",
      "model_module_version": "1.2.0",
      "model_name": "LayoutModel",
      "state": {
       "_model_module": "@jupyter-widgets/base",
       "_model_module_version": "1.2.0",
       "_model_name": "LayoutModel",
       "_view_count": null,
       "_view_module": "@jupyter-widgets/base",
       "_view_module_version": "1.2.0",
       "_view_name": "LayoutView",
       "align_content": null,
       "align_items": null,
       "align_self": null,
       "border": null,
       "bottom": null,
       "display": null,
       "flex": null,
       "flex_flow": null,
       "grid_area": null,
       "grid_auto_columns": null,
       "grid_auto_flow": null,
       "grid_auto_rows": null,
       "grid_column": null,
       "grid_gap": null,
       "grid_row": null,
       "grid_template_areas": null,
       "grid_template_columns": null,
       "grid_template_rows": null,
       "height": null,
       "justify_content": null,
       "justify_items": null,
       "left": null,
       "margin": null,
       "max_height": null,
       "max_width": null,
       "min_height": null,
       "min_width": null,
       "object_fit": null,
       "object_position": null,
       "order": null,
       "overflow": null,
       "overflow_x": null,
       "overflow_y": null,
       "padding": null,
       "right": null,
       "top": null,
       "visibility": null,
       "width": null
      }
     },
     "5d8107b1dae9492baf9cf18e5dbf58a5": {
      "model_module": "@jupyter-widgets/controls",
      "model_module_version": "1.5.0",
      "model_name": "FloatProgressModel",
      "state": {
       "_dom_classes": [],
       "_model_module": "@jupyter-widgets/controls",
       "_model_module_version": "1.5.0",
       "_model_name": "FloatProgressModel",
       "_view_count": null,
       "_view_module": "@jupyter-widgets/controls",
       "_view_module_version": "1.5.0",
       "_view_name": "ProgressView",
       "bar_style": "success",
       "description": "",
       "description_tooltip": null,
       "layout": "IPY_MODEL_880b291f57454e609b0fb4bde5ae0d1e",
       "max": 800582904.0,
       "min": 0.0,
       "orientation": "horizontal",
       "style": "IPY_MODEL_9cd70cc2116d43779fa61e8efac30772",
       "value": 800582904.0
      }
     },
     "66f96e0d2ba94e00b9552670a66e02b3": {
      "model_module": "@jupyter-widgets/controls",
      "model_module_version": "1.5.0",
      "model_name": "HTMLModel",
      "state": {
       "_dom_classes": [],
       "_model_module": "@jupyter-widgets/controls",
       "_model_module_version": "1.5.0",
       "_model_name": "HTMLModel",
       "_view_count": null,
       "_view_module": "@jupyter-widgets/controls",
       "_view_module_version": "1.5.0",
       "_view_name": "HTMLView",
       "description": "",
       "description_tooltip": null,
       "layout": "IPY_MODEL_a4d153dcadc44979ad74774fcafb06ca",
       "placeholder": "​",
       "style": "IPY_MODEL_f48f138f183f4ddf9d838cf4e1b5874f",
       "value": "100%"
      }
     },
     "6c766b285c614ee0978bd5d677b547be": {
      "model_module": "@jupyter-widgets/controls",
      "model_module_version": "1.5.0",
      "model_name": "HBoxModel",
      "state": {
       "_dom_classes": [],
       "_model_module": "@jupyter-widgets/controls",
       "_model_module_version": "1.5.0",
       "_model_name": "HBoxModel",
       "_view_count": null,
       "_view_module": "@jupyter-widgets/controls",
       "_view_module_version": "1.5.0",
       "_view_name": "HBoxView",
       "box_style": "",
       "children": [
        "IPY_MODEL_cdcd5f4749914917999877026792864f",
        "IPY_MODEL_5d8107b1dae9492baf9cf18e5dbf58a5",
        "IPY_MODEL_baaf59f5bd1f402aad341ce5039ad16c"
       ],
       "layout": "IPY_MODEL_6cdf1c6c3d4f4e82b469b44a10ac0756"
      }
     },
     "6cdf1c6c3d4f4e82b469b44a10ac0756": {
      "model_module": "@jupyter-widgets/base",
      "model_module_version": "1.2.0",
      "model_name": "LayoutModel",
      "state": {
       "_model_module": "@jupyter-widgets/base",
       "_model_module_version": "1.2.0",
       "_model_name": "LayoutModel",
       "_view_count": null,
       "_view_module": "@jupyter-widgets/base",
       "_view_module_version": "1.2.0",
       "_view_name": "LayoutView",
       "align_content": null,
       "align_items": null,
       "align_self": null,
       "border": null,
       "bottom": null,
       "display": null,
       "flex": null,
       "flex_flow": null,
       "grid_area": null,
       "grid_auto_columns": null,
       "grid_auto_flow": null,
       "grid_auto_rows": null,
       "grid_column": null,
       "grid_gap": null,
       "grid_row": null,
       "grid_template_areas": null,
       "grid_template_columns": null,
       "grid_template_rows": null,
       "height": null,
       "justify_content": null,
       "justify_items": null,
       "left": null,
       "margin": null,
       "max_height": null,
       "max_width": null,
       "min_height": null,
       "min_width": null,
       "object_fit": null,
       "object_position": null,
       "order": null,
       "overflow": null,
       "overflow_x": null,
       "overflow_y": null,
       "padding": null,
       "right": null,
       "top": null,
       "visibility": null,
       "width": null
      }
     },
     "73740a1a8e004f6cbb31219617d3db0a": {
      "model_module": "@jupyter-widgets/base",
      "model_module_version": "1.2.0",
      "model_name": "LayoutModel",
      "state": {
       "_model_module": "@jupyter-widgets/base",
       "_model_module_version": "1.2.0",
       "_model_name": "LayoutModel",
       "_view_count": null,
       "_view_module": "@jupyter-widgets/base",
       "_view_module_version": "1.2.0",
       "_view_name": "LayoutView",
       "align_content": null,
       "align_items": null,
       "align_self": null,
       "border": null,
       "bottom": null,
       "display": null,
       "flex": null,
       "flex_flow": null,
       "grid_area": null,
       "grid_auto_columns": null,
       "grid_auto_flow": null,
       "grid_auto_rows": null,
       "grid_column": null,
       "grid_gap": null,
       "grid_row": null,
       "grid_template_areas": null,
       "grid_template_columns": null,
       "grid_template_rows": null,
       "height": null,
       "justify_content": null,
       "justify_items": null,
       "left": null,
       "margin": null,
       "max_height": null,
       "max_width": null,
       "min_height": null,
       "min_width": null,
       "object_fit": null,
       "object_position": null,
       "order": null,
       "overflow": null,
       "overflow_x": null,
       "overflow_y": null,
       "padding": null,
       "right": null,
       "top": null,
       "visibility": null,
       "width": null
      }
     },
     "77c7a3d56ffd48fc94f9532841fe843e": {
      "model_module": "@jupyter-widgets/controls",
      "model_module_version": "1.5.0",
      "model_name": "DescriptionStyleModel",
      "state": {
       "_model_module": "@jupyter-widgets/controls",
       "_model_module_version": "1.5.0",
       "_model_name": "DescriptionStyleModel",
       "_view_count": null,
       "_view_module": "@jupyter-widgets/base",
       "_view_module_version": "1.2.0",
       "_view_name": "StyleView",
       "description_width": ""
      }
     },
     "880b291f57454e609b0fb4bde5ae0d1e": {
      "model_module": "@jupyter-widgets/base",
      "model_module_version": "1.2.0",
      "model_name": "LayoutModel",
      "state": {
       "_model_module": "@jupyter-widgets/base",
       "_model_module_version": "1.2.0",
       "_model_name": "LayoutModel",
       "_view_count": null,
       "_view_module": "@jupyter-widgets/base",
       "_view_module_version": "1.2.0",
       "_view_name": "LayoutView",
       "align_content": null,
       "align_items": null,
       "align_self": null,
       "border": null,
       "bottom": null,
       "display": null,
       "flex": null,
       "flex_flow": null,
       "grid_area": null,
       "grid_auto_columns": null,
       "grid_auto_flow": null,
       "grid_auto_rows": null,
       "grid_column": null,
       "grid_gap": null,
       "grid_row": null,
       "grid_template_areas": null,
       "grid_template_columns": null,
       "grid_template_rows": null,
       "height": null,
       "justify_content": null,
       "justify_items": null,
       "left": null,
       "margin": null,
       "max_height": null,
       "max_width": null,
       "min_height": null,
       "min_width": null,
       "object_fit": null,
       "object_position": null,
       "order": null,
       "overflow": null,
       "overflow_x": null,
       "overflow_y": null,
       "padding": null,
       "right": null,
       "top": null,
       "visibility": null,
       "width": null
      }
     },
     "9cd70cc2116d43779fa61e8efac30772": {
      "model_module": "@jupyter-widgets/controls",
      "model_module_version": "1.5.0",
      "model_name": "ProgressStyleModel",
      "state": {
       "_model_module": "@jupyter-widgets/controls",
       "_model_module_version": "1.5.0",
       "_model_name": "ProgressStyleModel",
       "_view_count": null,
       "_view_module": "@jupyter-widgets/base",
       "_view_module_version": "1.2.0",
       "_view_name": "StyleView",
       "bar_color": null,
       "description_width": ""
      }
     },
     "a1cd1fa1a9414aedbceef8e682f57639": {
      "model_module": "@jupyter-widgets/controls",
      "model_module_version": "1.5.0",
      "model_name": "DescriptionStyleModel",
      "state": {
       "_model_module": "@jupyter-widgets/controls",
       "_model_module_version": "1.5.0",
       "_model_name": "DescriptionStyleModel",
       "_view_count": null,
       "_view_module": "@jupyter-widgets/base",
       "_view_module_version": "1.2.0",
       "_view_name": "StyleView",
       "description_width": ""
      }
     },
     "a4d153dcadc44979ad74774fcafb06ca": {
      "model_module": "@jupyter-widgets/base",
      "model_module_version": "1.2.0",
      "model_name": "LayoutModel",
      "state": {
       "_model_module": "@jupyter-widgets/base",
       "_model_module_version": "1.2.0",
       "_model_name": "LayoutModel",
       "_view_count": null,
       "_view_module": "@jupyter-widgets/base",
       "_view_module_version": "1.2.0",
       "_view_name": "LayoutView",
       "align_content": null,
       "align_items": null,
       "align_self": null,
       "border": null,
       "bottom": null,
       "display": null,
       "flex": null,
       "flex_flow": null,
       "grid_area": null,
       "grid_auto_columns": null,
       "grid_auto_flow": null,
       "grid_auto_rows": null,
       "grid_column": null,
       "grid_gap": null,
       "grid_row": null,
       "grid_template_areas": null,
       "grid_template_columns": null,
       "grid_template_rows": null,
       "height": null,
       "justify_content": null,
       "justify_items": null,
       "left": null,
       "margin": null,
       "max_height": null,
       "max_width": null,
       "min_height": null,
       "min_width": null,
       "object_fit": null,
       "object_position": null,
       "order": null,
       "overflow": null,
       "overflow_x": null,
       "overflow_y": null,
       "padding": null,
       "right": null,
       "top": null,
       "visibility": null,
       "width": null
      }
     },
     "b298c65b40174ba29649e59be89e5e44": {
      "model_module": "@jupyter-widgets/controls",
      "model_module_version": "1.5.0",
      "model_name": "FloatProgressModel",
      "state": {
       "_dom_classes": [],
       "_model_module": "@jupyter-widgets/controls",
       "_model_module_version": "1.5.0",
       "_model_name": "FloatProgressModel",
       "_view_count": null,
       "_view_module": "@jupyter-widgets/controls",
       "_view_module_version": "1.5.0",
       "_view_name": "ProgressView",
       "bar_style": "success",
       "description": "",
       "description_tooltip": null,
       "layout": "IPY_MODEL_1626408bdbd841948a686ef9a9157264",
       "max": 6545.0,
       "min": 0.0,
       "orientation": "horizontal",
       "style": "IPY_MODEL_f6a8eec8a74b4e5da6992fe4e35e56f5",
       "value": 6545.0
      }
     },
     "baaf59f5bd1f402aad341ce5039ad16c": {
      "model_module": "@jupyter-widgets/controls",
      "model_module_version": "1.5.0",
      "model_name": "HTMLModel",
      "state": {
       "_dom_classes": [],
       "_model_module": "@jupyter-widgets/controls",
       "_model_module_version": "1.5.0",
       "_model_name": "HTMLModel",
       "_view_count": null,
       "_view_module": "@jupyter-widgets/controls",
       "_view_module_version": "1.5.0",
       "_view_name": "HTMLView",
       "description": "",
       "description_tooltip": null,
       "layout": "IPY_MODEL_472bbed343b84501b7d1c21c528326ab",
       "placeholder": "​",
       "style": "IPY_MODEL_a1cd1fa1a9414aedbceef8e682f57639",
       "value": " 801M/801M [00:04&lt;00:00, 211MB/s]"
      }
     },
     "cdcd5f4749914917999877026792864f": {
      "model_module": "@jupyter-widgets/controls",
      "model_module_version": "1.5.0",
      "model_name": "HTMLModel",
      "state": {
       "_dom_classes": [],
       "_model_module": "@jupyter-widgets/controls",
       "_model_module_version": "1.5.0",
       "_model_name": "HTMLModel",
       "_view_count": null,
       "_view_module": "@jupyter-widgets/controls",
       "_view_module_version": "1.5.0",
       "_view_name": "HTMLView",
       "description": "",
       "description_tooltip": null,
       "layout": "IPY_MODEL_114e1f96645042f5bae1d7fae0bf30ae",
       "placeholder": "​",
       "style": "IPY_MODEL_77c7a3d56ffd48fc94f9532841fe843e",
       "value": "model.safetensors: 100%"
      }
     },
     "f48f138f183f4ddf9d838cf4e1b5874f": {
      "model_module": "@jupyter-widgets/controls",
      "model_module_version": "1.5.0",
      "model_name": "DescriptionStyleModel",
      "state": {
       "_model_module": "@jupyter-widgets/controls",
       "_model_module_version": "1.5.0",
       "_model_name": "DescriptionStyleModel",
       "_view_count": null,
       "_view_module": "@jupyter-widgets/base",
       "_view_module_version": "1.2.0",
       "_view_name": "StyleView",
       "description_width": ""
      }
     },
     "f6a8eec8a74b4e5da6992fe4e35e56f5": {
      "model_module": "@jupyter-widgets/controls",
      "model_module_version": "1.5.0",
      "model_name": "ProgressStyleModel",
      "state": {
       "_model_module": "@jupyter-widgets/controls",
       "_model_module_version": "1.5.0",
       "_model_name": "ProgressStyleModel",
       "_view_count": null,
       "_view_module": "@jupyter-widgets/base",
       "_view_module_version": "1.2.0",
       "_view_name": "StyleView",
       "bar_color": null,
       "description_width": ""
      }
     }
    },
    "version_major": 2,
    "version_minor": 0
   }
  }
 },
 "nbformat": 4,
 "nbformat_minor": 5
}
