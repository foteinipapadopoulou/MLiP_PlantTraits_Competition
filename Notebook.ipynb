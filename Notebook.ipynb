{
 "cells": [
  {
   "cell_type": "markdown",
   "id": "489645d0",
   "metadata": {
    "papermill": {
     "duration": 0.007211,
     "end_time": "2024-06-06T07:52:11.286902",
     "exception": false,
     "start_time": "2024-06-06T07:52:11.279691",
     "status": "completed"
    },
    "tags": []
   },
   "source": [
    "# Train image models Notebook"
   ]
  },
  {
   "cell_type": "markdown",
   "id": "160377a5",
   "metadata": {
    "papermill": {
     "duration": 0.006848,
     "end_time": "2024-06-06T07:52:11.300853",
     "exception": false,
     "start_time": "2024-06-06T07:52:11.294005",
     "status": "completed"
    },
    "tags": []
   },
   "source": [
    "- Notebook modified from https://www.kaggle.com/code/markwijkhuizen/planttraits2024-eda-training-pub.\n",
    "- Training only, EDA part not included.\n",
    "- Image model only, tabular data not used."
   ]
  },
  {
   "cell_type": "code",
   "execution_count": 1,
   "id": "04cf4fcd",
   "metadata": {
    "execution": {
     "iopub.execute_input": "2024-06-06T07:52:11.315836Z",
     "iopub.status.busy": "2024-06-06T07:52:11.315453Z",
     "iopub.status.idle": "2024-06-06T07:52:22.348165Z",
     "shell.execute_reply": "2024-06-06T07:52:22.347377Z"
    },
    "papermill": {
     "duration": 11.043131,
     "end_time": "2024-06-06T07:52:22.350622",
     "exception": false,
     "start_time": "2024-06-06T07:52:11.307491",
     "status": "completed"
    },
    "tags": []
   },
   "outputs": [],
   "source": [
    "import numpy as np\n",
    "import pandas as pd\n",
    "import matplotlib.pyplot as plt\n",
    "import imageio.v3 as imageio\n",
    "import albumentations as A\n",
    "\n",
    "from albumentations.pytorch import ToTensorV2\n",
    "from torch.utils.data import Dataset, DataLoader\n",
    "from torch import nn\n",
    "from tqdm.notebook import tqdm\n",
    "from sklearn.preprocessing import StandardScaler\n",
    "\n",
    "import torch\n",
    "import timm\n",
    "import glob\n",
    "import torchmetrics\n",
    "import time\n",
    "import psutil\n",
    "import os\n",
    "\n",
    "tqdm.pandas()"
   ]
  },
  {
   "cell_type": "code",
   "execution_count": 2,
   "id": "87ed3fe3",
   "metadata": {
    "execution": {
     "iopub.execute_input": "2024-06-06T07:52:22.365818Z",
     "iopub.status.busy": "2024-06-06T07:52:22.365133Z",
     "iopub.status.idle": "2024-06-06T07:52:22.371140Z",
     "shell.execute_reply": "2024-06-06T07:52:22.370328Z"
    },
    "papermill": {
     "duration": 0.015357,
     "end_time": "2024-06-06T07:52:22.372987",
     "exception": false,
     "start_time": "2024-06-06T07:52:22.357630",
     "status": "completed"
    },
    "tags": []
   },
   "outputs": [],
   "source": [
    "class Config():\n",
    "    IMAGE_SIZE = 196# 256 # 384\n",
    "    BACKBONE = 'eva_large_patch14_196.in22k_ft_in22k_in1k'#'convnext_base.clip_laion2b_augreg_ft_in12k_in1k' # 'caformer_b36.sail_in22k_ft_in1k_384' # 'swin_large_patch4_window12_384.ms_in22k_ft_in1k'\n",
    "    TARGET_COLUMNS = ['X4_mean', 'X11_mean', 'X18_mean', 'X50_mean', 'X26_mean', 'X3112_mean']\n",
    "    N_TARGETS = len(TARGET_COLUMNS)\n",
    "    TRAIN_MODEL = True\n",
    "    BUILD_PKL_DATASET = False\n",
    "    USE_SMALL_DATASET = False\n",
    "    USE_MODIFIED_TRAIN = False\n",
    "    EXTRACT_FEATURES = False\n",
    "    BATCH_SIZE = 10\n",
    "    LR_MAX = 1e-4\n",
    "    WEIGHT_DECAY = 0.01\n",
    "    N_EPOCHS = 6\n",
    "    TRAIN_MODEL = True\n",
    "    IS_INTERACTIVE = os.environ['KAGGLE_KERNEL_RUN_TYPE'] == 'Interactive'\n",
    "        \n",
    "CONFIG = Config()"
   ]
  },
  {
   "cell_type": "markdown",
   "id": "df01fa0c",
   "metadata": {
    "papermill": {
     "duration": 0.0062,
     "end_time": "2024-06-06T07:52:22.385592",
     "exception": false,
     "start_time": "2024-06-06T07:52:22.379392",
     "status": "completed"
    },
    "tags": []
   },
   "source": [
    "# Load the dataset and clean it a bit th"
   ]
  },
  {
   "cell_type": "code",
   "execution_count": 3,
   "id": "0b857de6",
   "metadata": {
    "execution": {
     "iopub.execute_input": "2024-06-06T07:52:22.399464Z",
     "iopub.status.busy": "2024-06-06T07:52:22.399136Z",
     "iopub.status.idle": "2024-06-06T07:52:48.591280Z",
     "shell.execute_reply": "2024-06-06T07:52:48.590379Z"
    },
    "papermill": {
     "duration": 26.201648,
     "end_time": "2024-06-06T07:52:48.593470",
     "exception": false,
     "start_time": "2024-06-06T07:52:22.391822",
     "status": "completed"
    },
    "tags": []
   },
   "outputs": [
    {
     "name": "stdout",
     "output_type": "stream",
     "text": [
      "N_TRAIN_SAMPLES: 49168 N_TEST_SAMPLES: 6545\n"
     ]
    }
   ],
   "source": [
    "if CONFIG.BUILD_PKL_DATASET is True:\n",
    "    train = pd.read_csv('/kaggle/input/planttraits2024/train.csv')\n",
    "    train['file_path'] = train['id'].apply(lambda s: f'/kaggle/input/planttraits2024/train_images/{s}.jpeg')\n",
    "    train['jpeg_bytes'] = train['file_path'].progress_apply(lambda fp: open(fp, 'rb').read())\n",
    "    train.to_pickle('train.pkl')\n",
    "    test = pd.read_csv('/kaggle/input/planttraits2024/test.csv')\n",
    "    test['file_path'] = test['id'].apply(lambda s: f'/kaggle/input/planttraits2024/test_images/{s}.jpeg')\n",
    "    test['jpeg_bytes'] = test['file_path'].progress_apply(lambda fp: open(fp, 'rb').read())\n",
    "    test.to_pickle('test.pkl')\n",
    "else:\n",
    "    if CONFIG.USE_SMALL_DATASET is True:\n",
    "        train = pd.read_pickle('/kaggle/input/dataset-with-validation/small_train.pkl')       \n",
    "    elif CONFIG.USE_MODIFIED_TRAIN is True:\n",
    "        train = pd.read_pickle('/kaggle/input/dataset-with-validation/train_set.pkl')\n",
    "    else:\n",
    "         train = pd.read_pickle('/kaggle/input/baseline-model/train.pkl')\n",
    "    test = pd.read_pickle('/kaggle/input/baseline-model/test.pkl')\n",
    "    \n",
    "for column in CONFIG.TARGET_COLUMNS:\n",
    "    lower_quantile = train[column].quantile(0.005)\n",
    "    upper_quantile = train[column].quantile(0.985)  \n",
    "    train = train[(train[column] >= lower_quantile) & (train[column] <= upper_quantile)]\n",
    "\n",
    "CONFIG.N_TRAIN_SAMPLES = len(train)\n",
    "CONFIG.N_STEPS_PER_EPOCH = (CONFIG.N_TRAIN_SAMPLES // CONFIG.BATCH_SIZE)\n",
    "CONFIG.N_STEPS = CONFIG.N_STEPS_PER_EPOCH * CONFIG.N_EPOCHS + 1\n",
    "\n",
    "print('N_TRAIN_SAMPLES:', len(train), 'N_TEST_SAMPLES:', len(test))"
   ]
  },
  {
   "cell_type": "code",
   "execution_count": 4,
   "id": "099f3364",
   "metadata": {
    "execution": {
     "iopub.execute_input": "2024-06-06T07:52:48.608309Z",
     "iopub.status.busy": "2024-06-06T07:52:48.608016Z",
     "iopub.status.idle": "2024-06-06T07:52:48.631765Z",
     "shell.execute_reply": "2024-06-06T07:52:48.631067Z"
    },
    "papermill": {
     "duration": 0.033304,
     "end_time": "2024-06-06T07:52:48.633829",
     "exception": false,
     "start_time": "2024-06-06T07:52:48.600525",
     "status": "completed"
    },
    "tags": []
   },
   "outputs": [],
   "source": [
    "LOG_FEATURES = ['X4_mean', 'X11_mean', 'X18_mean', 'X50_mean', 'X26_mean', 'X3112_mean']\n",
    "\n",
    "y_train = np.zeros_like(train[CONFIG.TARGET_COLUMNS], dtype=np.float32)\n",
    "for target_idx, target in enumerate(CONFIG.TARGET_COLUMNS):\n",
    "    v = train[target].values\n",
    "    if target in LOG_FEATURES:\n",
    "        v = np.log10(v)\n",
    "    y_train[:, target_idx] = v\n",
    "\n",
    "SCALER = StandardScaler()\n",
    "y_train = SCALER.fit_transform(y_train)"
   ]
  },
  {
   "cell_type": "markdown",
   "id": "4db5bc58",
   "metadata": {
    "papermill": {
     "duration": 0.006364,
     "end_time": "2024-06-06T07:52:48.647018",
     "exception": false,
     "start_time": "2024-06-06T07:52:48.640654",
     "status": "completed"
    },
    "tags": []
   },
   "source": [
    "# Create the transforms for the train and the test datasets and make the dataloaders"
   ]
  },
  {
   "cell_type": "code",
   "execution_count": 5,
   "id": "00194c1a",
   "metadata": {
    "execution": {
     "iopub.execute_input": "2024-06-06T07:52:48.661235Z",
     "iopub.status.busy": "2024-06-06T07:52:48.660945Z",
     "iopub.status.idle": "2024-06-06T07:52:48.675681Z",
     "shell.execute_reply": "2024-06-06T07:52:48.674759Z"
    },
    "papermill": {
     "duration": 0.024165,
     "end_time": "2024-06-06T07:52:48.677588",
     "exception": false,
     "start_time": "2024-06-06T07:52:48.653423",
     "status": "completed"
    },
    "tags": []
   },
   "outputs": [],
   "source": [
    "MEAN = np.array([0.485, 0.456, 0.406])\n",
    "STD = np.array([0.229, 0.224, 0.225])\n",
    "\n",
    "TRAIN_TRANSFORMS = A.Compose([\n",
    "        A.HorizontalFlip(p=0.5),\n",
    "        A.RandomSizedCrop(\n",
    "            [448, 512],\n",
    "            CONFIG.IMAGE_SIZE, CONFIG.IMAGE_SIZE, w2h_ratio=1.0, p=0.75),\n",
    "        A.Resize(CONFIG.IMAGE_SIZE, CONFIG.IMAGE_SIZE),\n",
    "        A.RandomBrightnessContrast(brightness_limit=0.1, contrast_limit=0.1, p=0.25),\n",
    "        A.ImageCompression(quality_lower=85, quality_upper=100, p=0.25),\n",
    "        A.ToFloat(),\n",
    "        A.Normalize(mean=MEAN, std=STD, max_pixel_value=1),\n",
    "        ToTensorV2(),\n",
    "    ])\n",
    "\n",
    "TEST_TRANSFORMS = A.Compose([\n",
    "        A.Resize(CONFIG.IMAGE_SIZE, CONFIG.IMAGE_SIZE),\n",
    "        A.ToFloat(),\n",
    "        A.Normalize(mean=MEAN, std=STD, max_pixel_value=1),\n",
    "        ToTensorV2(),\n",
    "    ])\n",
    "\n",
    "class Dataset(Dataset):\n",
    "    def __init__(self, X_jpeg_bytes, y, transforms=None):\n",
    "        self.X_jpeg_bytes = X_jpeg_bytes\n",
    "        self.y = y\n",
    "        self.transforms = transforms\n",
    "\n",
    "    def __len__(self):\n",
    "        return len(self.X_jpeg_bytes)\n",
    "\n",
    "    def __getitem__(self, index):\n",
    "        X_sample = self.transforms(\n",
    "            image=imageio.imread(self.X_jpeg_bytes[index]),\n",
    "        )['image']\n",
    "        y_sample = self.y[index]\n",
    "        \n",
    "        return X_sample, y_sample\n",
    "\n",
    "train_dataset = Dataset(\n",
    "    train['jpeg_bytes'].values,\n",
    "    y_train,\n",
    "    TRAIN_TRANSFORMS,\n",
    ")\n",
    "\n",
    "train_dataloader = DataLoader(\n",
    "        train_dataset,\n",
    "        batch_size=CONFIG.BATCH_SIZE,\n",
    "        shuffle=True,\n",
    "        drop_last=True,\n",
    "        num_workers=psutil.cpu_count(),\n",
    ")\n",
    "\n",
    "test_dataset = Dataset(\n",
    "    test['jpeg_bytes'].values,\n",
    "    test['id'].values,\n",
    "    TEST_TRANSFORMS,\n",
    ")"
   ]
  },
  {
   "cell_type": "markdown",
   "id": "541a40c3",
   "metadata": {
    "execution": {
     "iopub.execute_input": "2024-06-04T11:00:11.324959Z",
     "iopub.status.busy": "2024-06-04T11:00:11.324619Z",
     "iopub.status.idle": "2024-06-04T11:00:11.329865Z",
     "shell.execute_reply": "2024-06-04T11:00:11.328863Z",
     "shell.execute_reply.started": "2024-06-04T11:00:11.324922Z"
    },
    "papermill": {
     "duration": 0.006211,
     "end_time": "2024-06-06T07:52:48.691129",
     "exception": false,
     "start_time": "2024-06-06T07:52:48.684918",
     "status": "completed"
    },
    "tags": []
   },
   "source": [
    "# Create a model to make the predictions based on a pretrained one"
   ]
  },
  {
   "cell_type": "code",
   "execution_count": 6,
   "id": "161a573f",
   "metadata": {
    "execution": {
     "iopub.execute_input": "2024-06-06T07:52:48.706055Z",
     "iopub.status.busy": "2024-06-06T07:52:48.705684Z",
     "iopub.status.idle": "2024-06-06T07:52:48.710832Z",
     "shell.execute_reply": "2024-06-06T07:52:48.710007Z"
    },
    "papermill": {
     "duration": 0.015034,
     "end_time": "2024-06-06T07:52:48.712708",
     "exception": false,
     "start_time": "2024-06-06T07:52:48.697674",
     "status": "completed"
    },
    "tags": []
   },
   "outputs": [],
   "source": [
    "class Model(nn.Module):\n",
    "    def __init__(self):\n",
    "        super().__init__()\n",
    "        self.backbone = timm.create_model(\n",
    "            CONFIG.BACKBONE,\n",
    "            num_classes=CONFIG.N_TARGETS,\n",
    "            pretrained=True,\n",
    "        )\n",
    "        \n",
    "    def forward(self, inputs):\n",
    "        return self.backbone(inputs)"
   ]
  },
  {
   "cell_type": "markdown",
   "id": "2c966108",
   "metadata": {
    "papermill": {
     "duration": 0.006413,
     "end_time": "2024-06-06T07:52:48.725553",
     "exception": false,
     "start_time": "2024-06-06T07:52:48.719140",
     "status": "completed"
    },
    "tags": []
   },
   "source": [
    "# A model where we freeze the first couple of layers"
   ]
  },
  {
   "cell_type": "code",
   "execution_count": 7,
   "id": "846b3e6a",
   "metadata": {
    "execution": {
     "iopub.execute_input": "2024-06-06T07:52:48.739805Z",
     "iopub.status.busy": "2024-06-06T07:52:48.739204Z",
     "iopub.status.idle": "2024-06-06T07:52:48.745816Z",
     "shell.execute_reply": "2024-06-06T07:52:48.745023Z"
    },
    "papermill": {
     "duration": 0.015668,
     "end_time": "2024-06-06T07:52:48.747661",
     "exception": false,
     "start_time": "2024-06-06T07:52:48.731993",
     "status": "completed"
    },
    "tags": []
   },
   "outputs": [],
   "source": [
    "class FreezeModel(nn.Module):\n",
    "    def __init__(self, freeze_till_stage=2):\n",
    "        super().__init__()\n",
    "        self.backbone = timm.create_model(\n",
    "            CONFIG.BACKBONE,\n",
    "            num_classes=0, \n",
    "            pretrained=True\n",
    "        )\n",
    "    \n",
    "        # Freeze layers up \n",
    "        for name, param in self.backbone.named_parameters():\n",
    "            # This assumes layer names include the stage they belong to\n",
    "            if 'layers.' in name and int(name.split('.')[1]) < freeze_till_stage:\n",
    "                param.requires_grad = False\n",
    "        self.classifier = nn.Linear(self.backbone.num_features, CONFIG.N_TARGETS)\n",
    "\n",
    "    def forward(self, inputs):\n",
    "        x = self.backbone(inputs)\n",
    "        return self.classifier(x)"
   ]
  },
  {
   "cell_type": "markdown",
   "id": "8de4acbc",
   "metadata": {
    "papermill": {
     "duration": 0.00637,
     "end_time": "2024-06-06T07:52:48.760477",
     "exception": false,
     "start_time": "2024-06-06T07:52:48.754107",
     "status": "completed"
    },
    "tags": []
   },
   "source": [
    "# A model to exract features from the images based on a pretrained model"
   ]
  },
  {
   "cell_type": "code",
   "execution_count": 8,
   "id": "2295c15e",
   "metadata": {
    "execution": {
     "iopub.execute_input": "2024-06-06T07:52:48.774858Z",
     "iopub.status.busy": "2024-06-06T07:52:48.774314Z",
     "iopub.status.idle": "2024-06-06T07:52:48.779425Z",
     "shell.execute_reply": "2024-06-06T07:52:48.778652Z"
    },
    "papermill": {
     "duration": 0.014444,
     "end_time": "2024-06-06T07:52:48.781308",
     "exception": false,
     "start_time": "2024-06-06T07:52:48.766864",
     "status": "completed"
    },
    "tags": []
   },
   "outputs": [],
   "source": [
    "class FeatureExtractModel(nn.Module):\n",
    "    def __init__(self):\n",
    "        super().__init__()\n",
    "        self.backbone = timm.create_model(\n",
    "            CONFIG.BACKBONE,\n",
    "            pretrained=True,\n",
    "            num_classes=0,\n",
    "#             global_pool='',\n",
    "        )\n",
    "    \n",
    "    def forward(self, images):\n",
    "        image_features = self.backbone(images)\n",
    "        \n",
    "        return image_features"
   ]
  },
  {
   "cell_type": "code",
   "execution_count": 9,
   "id": "cf5e637e",
   "metadata": {
    "execution": {
     "iopub.execute_input": "2024-06-06T07:52:48.795801Z",
     "iopub.status.busy": "2024-06-06T07:52:48.795554Z",
     "iopub.status.idle": "2024-06-06T07:53:01.549664Z",
     "shell.execute_reply": "2024-06-06T07:53:01.548516Z"
    },
    "papermill": {
     "duration": 12.764141,
     "end_time": "2024-06-06T07:53:01.552272",
     "exception": false,
     "start_time": "2024-06-06T07:52:48.788131",
     "status": "completed"
    },
    "tags": []
   },
   "outputs": [
    {
     "data": {
      "application/vnd.jupyter.widget-view+json": {
       "model_id": "3cb3373ca1374df086365d424ddfbb9b",
       "version_major": 2,
       "version_minor": 0
      },
      "text/plain": [
       "model.safetensors:   0%|          | 0.00/1.22G [00:00<?, ?B/s]"
      ]
     },
     "metadata": {},
     "output_type": "display_data"
    }
   ],
   "source": [
    "model = FreezeModel() #Model() # FreezeModel()\n",
    "model = model.to('cuda')\n",
    "# print(model)"
   ]
  },
  {
   "cell_type": "markdown",
   "id": "5f350840",
   "metadata": {
    "papermill": {
     "duration": 0.007448,
     "end_time": "2024-06-06T07:53:01.567702",
     "exception": false,
     "start_time": "2024-06-06T07:53:01.560254",
     "status": "completed"
    },
    "tags": []
   },
   "source": [
    "# Set upthe various parameters for training"
   ]
  },
  {
   "cell_type": "code",
   "execution_count": 10,
   "id": "f5263a58",
   "metadata": {
    "execution": {
     "iopub.execute_input": "2024-06-06T07:53:01.588597Z",
     "iopub.status.busy": "2024-06-06T07:53:01.587887Z",
     "iopub.status.idle": "2024-06-06T07:53:01.621314Z",
     "shell.execute_reply": "2024-06-06T07:53:01.620288Z"
    },
    "papermill": {
     "duration": 0.047094,
     "end_time": "2024-06-06T07:53:01.623756",
     "exception": false,
     "start_time": "2024-06-06T07:53:01.576662",
     "status": "completed"
    },
    "tags": []
   },
   "outputs": [],
   "source": [
    "def get_lr_scheduler(optimizer):\n",
    "    return torch.optim.lr_scheduler.OneCycleLR(\n",
    "        optimizer=optimizer,\n",
    "        max_lr=CONFIG.LR_MAX,\n",
    "        total_steps=CONFIG.N_STEPS,\n",
    "        pct_start=0.1,\n",
    "        anneal_strategy='cos',\n",
    "        div_factor=1e1,\n",
    "        final_div_factor=1e1,\n",
    "    )\n",
    "\n",
    "class AverageMeter(object):\n",
    "    def __init__(self):\n",
    "        self.reset()\n",
    "\n",
    "    def reset(self):\n",
    "        self.avg = 0\n",
    "        self.sum = 0\n",
    "        self.count = 0\n",
    "\n",
    "    def update(self, val):\n",
    "        self.sum += val.sum()\n",
    "        self.count += val.numel()\n",
    "        self.avg = self.sum / self.count\n",
    "\n",
    "MAE = torchmetrics.regression.MeanAbsoluteError().to('cuda')\n",
    "R2 = torchmetrics.regression.R2Score(num_outputs=CONFIG.N_TARGETS, multioutput='uniform_average').to('cuda')\n",
    "LOSS = AverageMeter()\n",
    "\n",
    "Y_MEAN = torch.tensor(y_train).mean(dim=0).to('cuda')\n",
    "EPS = torch.tensor([1e-6]).to('cuda')\n",
    "\n",
    "def r2_loss(y_pred, y_true):\n",
    "    ss_res = torch.sum((y_true - y_pred)**2, dim=0)\n",
    "    ss_total = torch.sum((y_true - Y_MEAN)**2, dim=0)\n",
    "    ss_total = torch.maximum(ss_total, EPS)\n",
    "    r2 = torch.mean(ss_res / ss_total)\n",
    "    return r2\n",
    "\n",
    "LOSS_FN = nn.SmoothL1Loss() # r2_loss\n",
    "\n",
    "optimizer = torch.optim.AdamW(\n",
    "    params=model.parameters(),\n",
    "    lr=CONFIG.LR_MAX,\n",
    "    weight_decay=CONFIG.WEIGHT_DECAY,\n",
    ")\n",
    "\n",
    "LR_SCHEDULER = get_lr_scheduler(optimizer)"
   ]
  },
  {
   "cell_type": "markdown",
   "id": "59b00c50",
   "metadata": {
    "papermill": {
     "duration": 0.006711,
     "end_time": "2024-06-06T07:53:01.638209",
     "exception": false,
     "start_time": "2024-06-06T07:53:01.631498",
     "status": "completed"
    },
    "tags": []
   },
   "source": [
    "# Extract features from the images based on a model of choice"
   ]
  },
  {
   "cell_type": "code",
   "execution_count": 11,
   "id": "6088feaf",
   "metadata": {
    "execution": {
     "iopub.execute_input": "2024-06-06T07:53:01.662966Z",
     "iopub.status.busy": "2024-06-06T07:53:01.662055Z",
     "iopub.status.idle": "2024-06-06T07:53:01.672355Z",
     "shell.execute_reply": "2024-06-06T07:53:01.671337Z"
    },
    "papermill": {
     "duration": 0.024356,
     "end_time": "2024-06-06T07:53:01.674810",
     "exception": false,
     "start_time": "2024-06-06T07:53:01.650454",
     "status": "completed"
    },
    "tags": []
   },
   "outputs": [],
   "source": [
    "def extract_features(dataloader, model):\n",
    "    model.eval()\n",
    "    features_list = []\n",
    "    \n",
    "    with torch.no_grad():\n",
    "        for step, (X_batch, _) in enumerate(dataloader):\n",
    "            X_batch = X_batch.unsqueeze(0).to('cuda')\n",
    "            # get the features and bring them back to the cpu so we can use them \n",
    "            # to make the dataset\n",
    "            y_pred = model(X_batch).cpu()\n",
    "            features_list.extend(y_pred)\n",
    "    \n",
    "    features_array = np.array(features_list)\n",
    "    \n",
    "    # Convert the features array into a DataFrame\n",
    "    features_df = pd.DataFrame(features_array)\n",
    "    \n",
    "    features_df.columns = [f'feature_{i}' for i in range(features_array.shape[1])]\n",
    "    \n",
    "    return features_df\n",
    "\n",
    "if CONFIG.EXTRACT_FEATURES:\n",
    "    feature_extract_model = FeatureExtractModel()\n",
    "    feature_extract_model = model.to('cuda')\n",
    "\n",
    "    df = extract_features(train_dataloader, feature_extract_model)\n",
    "    df.to_pickle(\"swin_features.pkl\")\n",
    "    df = extract_features(test_dataset, feature_extract_model)\n",
    "    df.to_pickle(\"swin_features_test.pkl\")"
   ]
  },
  {
   "cell_type": "markdown",
   "id": "de74822a",
   "metadata": {
    "papermill": {
     "duration": 0.006598,
     "end_time": "2024-06-06T07:53:01.688167",
     "exception": false,
     "start_time": "2024-06-06T07:53:01.681569",
     "status": "completed"
    },
    "tags": []
   },
   "source": [
    "# Train the model"
   ]
  },
  {
   "cell_type": "code",
   "execution_count": 12,
   "id": "2f361f63",
   "metadata": {
    "execution": {
     "iopub.execute_input": "2024-06-06T07:53:01.706820Z",
     "iopub.status.busy": "2024-06-06T07:53:01.706089Z",
     "iopub.status.idle": "2024-06-06T17:07:58.752798Z",
     "shell.execute_reply": "2024-06-06T17:07:58.751799Z"
    },
    "papermill": {
     "duration": 33297.058664,
     "end_time": "2024-06-06T17:07:58.755392",
     "exception": false,
     "start_time": "2024-06-06T07:53:01.696728",
     "status": "completed"
    },
    "tags": []
   },
   "outputs": [
    {
     "name": "stdout",
     "output_type": "stream",
     "text": [
      "Start Training:\n",
      "EPOCH 01, 4916/4916 | loss: 0.3018, mae: 0.6394, r2: 0.3140, step: 1.674s, lr: 9.87e-05\n",
      "EPOCH 02, 4916/4916 | loss: 0.2804, mae: 0.6096, r2: 0.3684, step: 1.119s, lr: 8.45e-05\n",
      "EPOCH 03, 4916/4916 | loss: 0.2389, mae: 0.5513, r2: 0.4696, step: 1.130s, lr: 5.91e-05\n",
      "EPOCH 04, 4916/4916 | loss: 0.1819, mae: 0.4675, r2: 0.6052, step: 1.133s, lr: 3.09e-05\n",
      "EPOCH 05, 4916/4916 | loss: 0.1231, mae: 0.3750, r2: 0.7400, step: 1.130s, lr: 9.14e-06\n",
      "EPOCH 06, 4916/4916 | loss: 0.0835, mae: 0.3049, r2: 0.8271, step: 1.134s, lr: 1.00e-06\n"
     ]
    }
   ],
   "source": [
    "if CONFIG.TRAIN_MODEL is True:\n",
    "    print(\"Start Training:\")\n",
    "    for epoch in range(CONFIG.N_EPOCHS):\n",
    "        MAE.reset()\n",
    "        R2.reset()\n",
    "        LOSS.reset()\n",
    "        model.train()\n",
    "\n",
    "        for step, (X_batch, y_true) in enumerate(train_dataloader):\n",
    "            X_batch = X_batch.to('cuda')\n",
    "            y_true = y_true.to('cuda')\n",
    "            t_start = time.perf_counter_ns()\n",
    "            y_pred = model(X_batch)\n",
    "            loss = LOSS_FN(y_pred, y_true)\n",
    "            LOSS.update(loss)\n",
    "            loss.backward()\n",
    "            optimizer.step()\n",
    "            optimizer.zero_grad()\n",
    "            LR_SCHEDULER.step()\n",
    "            MAE.update(y_pred, y_true)\n",
    "            R2.update(y_pred, y_true)\n",
    "\n",
    "            if not CONFIG.IS_INTERACTIVE and (step+1) == CONFIG.N_STEPS_PER_EPOCH:\n",
    "                print(\n",
    "                    f'EPOCH {epoch+1:02d}, {step+1:04d}/{CONFIG.N_STEPS_PER_EPOCH} | ' + \n",
    "                    f'loss: {LOSS.avg:.4f}, mae: {MAE.compute().item():.4f}, r2: {R2.compute().item():.4f}, ' +\n",
    "                    f'step: {(time.perf_counter_ns()-t_start)*1e-9:.3f}s, lr: {LR_SCHEDULER.get_last_lr()[0]:.2e}',\n",
    "                )\n",
    "            elif CONFIG.IS_INTERACTIVE:\n",
    "                print(\n",
    "                    f'\\rEPOCH {epoch+1:02d}, {step+1:04d}/{CONFIG.N_STEPS_PER_EPOCH} | ' + \n",
    "                    f'loss: {LOSS.avg:.4f}, mae: {MAE.compute().item():.4f}, r2: {R2.compute().item():.4f}, ' +\n",
    "                    f'step: {(time.perf_counter_ns()-t_start)*1e-9:.3f}s, lr: {LR_SCHEDULER.get_last_lr()[0]:.2e}',\n",
    "                    end='\\n' if (step + 1) == CONFIG.N_STEPS_PER_EPOCH else '', flush=True,\n",
    "                )\n",
    "\n",
    "    torch.save(model, 'model.pth')"
   ]
  },
  {
   "cell_type": "markdown",
   "id": "522c963a",
   "metadata": {
    "papermill": {
     "duration": 0.006983,
     "end_time": "2024-06-06T17:07:58.769914",
     "exception": false,
     "start_time": "2024-06-06T17:07:58.762931",
     "status": "completed"
    },
    "tags": []
   },
   "source": [
    "# Submit the results"
   ]
  },
  {
   "cell_type": "code",
   "execution_count": 13,
   "id": "f3626467",
   "metadata": {
    "execution": {
     "iopub.execute_input": "2024-06-06T17:07:58.785617Z",
     "iopub.status.busy": "2024-06-06T17:07:58.785317Z",
     "iopub.status.idle": "2024-06-06T17:13:30.745927Z",
     "shell.execute_reply": "2024-06-06T17:13:30.744911Z"
    },
    "papermill": {
     "duration": 331.971043,
     "end_time": "2024-06-06T17:13:30.748018",
     "exception": false,
     "start_time": "2024-06-06T17:07:58.776975",
     "status": "completed"
    },
    "tags": []
   },
   "outputs": [
    {
     "data": {
      "application/vnd.jupyter.widget-view+json": {
       "model_id": "7161046a29f1443d93ba5100684e847d",
       "version_major": 2,
       "version_minor": 0
      },
      "text/plain": [
       "  0%|          | 0/6545 [00:00<?, ?it/s]"
      ]
     },
     "metadata": {},
     "output_type": "display_data"
    },
    {
     "name": "stdout",
     "output_type": "stream",
     "text": [
      "Submit!\n"
     ]
    }
   ],
   "source": [
    "SUBMISSION_ROWS = []\n",
    "model.eval()\n",
    "\n",
    "for X_sample_test, test_id in tqdm(test_dataset):\n",
    "    with torch.no_grad():\n",
    "        y_pred = model(X_sample_test.unsqueeze(0).to('cuda')).detach().cpu().numpy()\n",
    "    \n",
    "    y_pred = SCALER.inverse_transform(y_pred).squeeze()\n",
    "    row = {'id': test_id}\n",
    "    \n",
    "    for k, v in zip(CONFIG.TARGET_COLUMNS, y_pred):\n",
    "        if k in LOG_FEATURES:\n",
    "            row[k.replace('_mean', '')] = 10 ** v\n",
    "        else:\n",
    "            row[k.replace('_mean', '')] = v\n",
    "\n",
    "    SUBMISSION_ROWS.append(row)\n",
    "    \n",
    "submission_df = pd.DataFrame(SUBMISSION_ROWS)\n",
    "submission_df.to_csv('submission.csv', index=False)\n",
    "print(\"Submit!\")"
   ]
  }
 ],
 "metadata": {
  "kaggle": {
   "accelerator": "nvidiaTeslaT4",
   "dataSources": [
    {
     "databundleVersionId": 8046133,
     "sourceId": 65626,
     "sourceType": "competition"
    },
    {
     "datasetId": 4816952,
     "sourceId": 8145845,
     "sourceType": "datasetVersion"
    },
    {
     "datasetId": 4819871,
     "sourceId": 8149784,
     "sourceType": "datasetVersion"
    },
    {
     "datasetId": 4841404,
     "sourceId": 8178456,
     "sourceType": "datasetVersion"
    },
    {
     "datasetId": 4860734,
     "sourceId": 8204134,
     "sourceType": "datasetVersion"
    },
    {
     "datasetId": 4862895,
     "sourceId": 8332370,
     "sourceType": "datasetVersion"
    },
    {
     "datasetId": 4947895,
     "sourceId": 8332380,
     "sourceType": "datasetVersion"
    },
    {
     "datasetId": 4912621,
     "sourceId": 8409225,
     "sourceType": "datasetVersion"
    }
   ],
   "isGpuEnabled": true,
   "isInternetEnabled": true,
   "language": "python",
   "sourceType": "notebook"
  },
  "kernelspec": {
   "display_name": "Python 3",
   "language": "python",
   "name": "python3"
  },
  "language_info": {
   "codemirror_mode": {
    "name": "ipython",
    "version": 3
   },
   "file_extension": ".py",
   "mimetype": "text/x-python",
   "name": "python",
   "nbconvert_exporter": "python",
   "pygments_lexer": "ipython3",
   "version": "3.10.13"
  },
  "papermill": {
   "default_parameters": {},
   "duration": 33685.448097,
   "end_time": "2024-06-06T17:13:33.943712",
   "environment_variables": {},
   "exception": null,
   "input_path": "__notebook__.ipynb",
   "output_path": "__notebook__.ipynb",
   "parameters": {},
   "start_time": "2024-06-06T07:52:08.495615",
   "version": "2.5.0"
  },
  "widgets": {
   "application/vnd.jupyter.widget-state+json": {
    "state": {
     "06a8c456615d4d1abf72871b52220321": {
      "model_module": "@jupyter-widgets/controls",
      "model_module_version": "1.5.0",
      "model_name": "DescriptionStyleModel",
      "state": {
       "_model_module": "@jupyter-widgets/controls",
       "_model_module_version": "1.5.0",
       "_model_name": "DescriptionStyleModel",
       "_view_count": null,
       "_view_module": "@jupyter-widgets/base",
       "_view_module_version": "1.2.0",
       "_view_name": "StyleView",
       "description_width": ""
      }
     },
     "142d8c1dda74496caaafddf1cbe5b096": {
      "model_module": "@jupyter-widgets/base",
      "model_module_version": "1.2.0",
      "model_name": "LayoutModel",
      "state": {
       "_model_module": "@jupyter-widgets/base",
       "_model_module_version": "1.2.0",
       "_model_name": "LayoutModel",
       "_view_count": null,
       "_view_module": "@jupyter-widgets/base",
       "_view_module_version": "1.2.0",
       "_view_name": "LayoutView",
       "align_content": null,
       "align_items": null,
       "align_self": null,
       "border": null,
       "bottom": null,
       "display": null,
       "flex": null,
       "flex_flow": null,
       "grid_area": null,
       "grid_auto_columns": null,
       "grid_auto_flow": null,
       "grid_auto_rows": null,
       "grid_column": null,
       "grid_gap": null,
       "grid_row": null,
       "grid_template_areas": null,
       "grid_template_columns": null,
       "grid_template_rows": null,
       "height": null,
       "justify_content": null,
       "justify_items": null,
       "left": null,
       "margin": null,
       "max_height": null,
       "max_width": null,
       "min_height": null,
       "min_width": null,
       "object_fit": null,
       "object_position": null,
       "order": null,
       "overflow": null,
       "overflow_x": null,
       "overflow_y": null,
       "padding": null,
       "right": null,
       "top": null,
       "visibility": null,
       "width": null
      }
     },
     "2506e58909404a2cb630c514ab266013": {
      "model_module": "@jupyter-widgets/base",
      "model_module_version": "1.2.0",
      "model_name": "LayoutModel",
      "state": {
       "_model_module": "@jupyter-widgets/base",
       "_model_module_version": "1.2.0",
       "_model_name": "LayoutModel",
       "_view_count": null,
       "_view_module": "@jupyter-widgets/base",
       "_view_module_version": "1.2.0",
       "_view_name": "LayoutView",
       "align_content": null,
       "align_items": null,
       "align_self": null,
       "border": null,
       "bottom": null,
       "display": null,
       "flex": null,
       "flex_flow": null,
       "grid_area": null,
       "grid_auto_columns": null,
       "grid_auto_flow": null,
       "grid_auto_rows": null,
       "grid_column": null,
       "grid_gap": null,
       "grid_row": null,
       "grid_template_areas": null,
       "grid_template_columns": null,
       "grid_template_rows": null,
       "height": null,
       "justify_content": null,
       "justify_items": null,
       "left": null,
       "margin": null,
       "max_height": null,
       "max_width": null,
       "min_height": null,
       "min_width": null,
       "object_fit": null,
       "object_position": null,
       "order": null,
       "overflow": null,
       "overflow_x": null,
       "overflow_y": null,
       "padding": null,
       "right": null,
       "top": null,
       "visibility": null,
       "width": null
      }
     },
     "3635523690554c6eb91ea4858bb8cb36": {
      "model_module": "@jupyter-widgets/base",
      "model_module_version": "1.2.0",
      "model_name": "LayoutModel",
      "state": {
       "_model_module": "@jupyter-widgets/base",
       "_model_module_version": "1.2.0",
       "_model_name": "LayoutModel",
       "_view_count": null,
       "_view_module": "@jupyter-widgets/base",
       "_view_module_version": "1.2.0",
       "_view_name": "LayoutView",
       "align_content": null,
       "align_items": null,
       "align_self": null,
       "border": null,
       "bottom": null,
       "display": null,
       "flex": null,
       "flex_flow": null,
       "grid_area": null,
       "grid_auto_columns": null,
       "grid_auto_flow": null,
       "grid_auto_rows": null,
       "grid_column": null,
       "grid_gap": null,
       "grid_row": null,
       "grid_template_areas": null,
       "grid_template_columns": null,
       "grid_template_rows": null,
       "height": null,
       "justify_content": null,
       "justify_items": null,
       "left": null,
       "margin": null,
       "max_height": null,
       "max_width": null,
       "min_height": null,
       "min_width": null,
       "object_fit": null,
       "object_position": null,
       "order": null,
       "overflow": null,
       "overflow_x": null,
       "overflow_y": null,
       "padding": null,
       "right": null,
       "top": null,
       "visibility": null,
       "width": null
      }
     },
     "3cb3373ca1374df086365d424ddfbb9b": {
      "model_module": "@jupyter-widgets/controls",
      "model_module_version": "1.5.0",
      "model_name": "HBoxModel",
      "state": {
       "_dom_classes": [],
       "_model_module": "@jupyter-widgets/controls",
       "_model_module_version": "1.5.0",
       "_model_name": "HBoxModel",
       "_view_count": null,
       "_view_module": "@jupyter-widgets/controls",
       "_view_module_version": "1.5.0",
       "_view_name": "HBoxView",
       "box_style": "",
       "children": [
        "IPY_MODEL_d48d8709cc45499288e03ec330498ef9",
        "IPY_MODEL_ce8b1f61813f4f659ea50beeb4f618da",
        "IPY_MODEL_cbd2189951b24e189eaacf405c7eaaeb"
       ],
       "layout": "IPY_MODEL_142d8c1dda74496caaafddf1cbe5b096"
      }
     },
     "5fd01956601c413e9804460170dcbd6b": {
      "model_module": "@jupyter-widgets/base",
      "model_module_version": "1.2.0",
      "model_name": "LayoutModel",
      "state": {
       "_model_module": "@jupyter-widgets/base",
       "_model_module_version": "1.2.0",
       "_model_name": "LayoutModel",
       "_view_count": null,
       "_view_module": "@jupyter-widgets/base",
       "_view_module_version": "1.2.0",
       "_view_name": "LayoutView",
       "align_content": null,
       "align_items": null,
       "align_self": null,
       "border": null,
       "bottom": null,
       "display": null,
       "flex": null,
       "flex_flow": null,
       "grid_area": null,
       "grid_auto_columns": null,
       "grid_auto_flow": null,
       "grid_auto_rows": null,
       "grid_column": null,
       "grid_gap": null,
       "grid_row": null,
       "grid_template_areas": null,
       "grid_template_columns": null,
       "grid_template_rows": null,
       "height": null,
       "justify_content": null,
       "justify_items": null,
       "left": null,
       "margin": null,
       "max_height": null,
       "max_width": null,
       "min_height": null,
       "min_width": null,
       "object_fit": null,
       "object_position": null,
       "order": null,
       "overflow": null,
       "overflow_x": null,
       "overflow_y": null,
       "padding": null,
       "right": null,
       "top": null,
       "visibility": null,
       "width": null
      }
     },
     "62d5f3124bdd424bb6e63d7fcc6a45f4": {
      "model_module": "@jupyter-widgets/base",
      "model_module_version": "1.2.0",
      "model_name": "LayoutModel",
      "state": {
       "_model_module": "@jupyter-widgets/base",
       "_model_module_version": "1.2.0",
       "_model_name": "LayoutModel",
       "_view_count": null,
       "_view_module": "@jupyter-widgets/base",
       "_view_module_version": "1.2.0",
       "_view_name": "LayoutView",
       "align_content": null,
       "align_items": null,
       "align_self": null,
       "border": null,
       "bottom": null,
       "display": null,
       "flex": null,
       "flex_flow": null,
       "grid_area": null,
       "grid_auto_columns": null,
       "grid_auto_flow": null,
       "grid_auto_rows": null,
       "grid_column": null,
       "grid_gap": null,
       "grid_row": null,
       "grid_template_areas": null,
       "grid_template_columns": null,
       "grid_template_rows": null,
       "height": null,
       "justify_content": null,
       "justify_items": null,
       "left": null,
       "margin": null,
       "max_height": null,
       "max_width": null,
       "min_height": null,
       "min_width": null,
       "object_fit": null,
       "object_position": null,
       "order": null,
       "overflow": null,
       "overflow_x": null,
       "overflow_y": null,
       "padding": null,
       "right": null,
       "top": null,
       "visibility": null,
       "width": null
      }
     },
     "631b4f5b5af24db0b630eb88231040aa": {
      "model_module": "@jupyter-widgets/controls",
      "model_module_version": "1.5.0",
      "model_name": "ProgressStyleModel",
      "state": {
       "_model_module": "@jupyter-widgets/controls",
       "_model_module_version": "1.5.0",
       "_model_name": "ProgressStyleModel",
       "_view_count": null,
       "_view_module": "@jupyter-widgets/base",
       "_view_module_version": "1.2.0",
       "_view_name": "StyleView",
       "bar_color": null,
       "description_width": ""
      }
     },
     "68afdc0faf794a93b01e5a92f5f44d91": {
      "model_module": "@jupyter-widgets/controls",
      "model_module_version": "1.5.0",
      "model_name": "DescriptionStyleModel",
      "state": {
       "_model_module": "@jupyter-widgets/controls",
       "_model_module_version": "1.5.0",
       "_model_name": "DescriptionStyleModel",
       "_view_count": null,
       "_view_module": "@jupyter-widgets/base",
       "_view_module_version": "1.2.0",
       "_view_name": "StyleView",
       "description_width": ""
      }
     },
     "7161046a29f1443d93ba5100684e847d": {
      "model_module": "@jupyter-widgets/controls",
      "model_module_version": "1.5.0",
      "model_name": "HBoxModel",
      "state": {
       "_dom_classes": [],
       "_model_module": "@jupyter-widgets/controls",
       "_model_module_version": "1.5.0",
       "_model_name": "HBoxModel",
       "_view_count": null,
       "_view_module": "@jupyter-widgets/controls",
       "_view_module_version": "1.5.0",
       "_view_name": "HBoxView",
       "box_style": "",
       "children": [
        "IPY_MODEL_e11ddc85891540b7bd5b23deb0bf1203",
        "IPY_MODEL_9d78754746c24f2c94e8916fe94a0ed8",
        "IPY_MODEL_7e893fbc5d1d4014a2deee8216628621"
       ],
       "layout": "IPY_MODEL_2506e58909404a2cb630c514ab266013"
      }
     },
     "7e893fbc5d1d4014a2deee8216628621": {
      "model_module": "@jupyter-widgets/controls",
      "model_module_version": "1.5.0",
      "model_name": "HTMLModel",
      "state": {
       "_dom_classes": [],
       "_model_module": "@jupyter-widgets/controls",
       "_model_module_version": "1.5.0",
       "_model_name": "HTMLModel",
       "_view_count": null,
       "_view_module": "@jupyter-widgets/controls",
       "_view_module_version": "1.5.0",
       "_view_name": "HTMLView",
       "description": "",
       "description_tooltip": null,
       "layout": "IPY_MODEL_a486e25d2e3a42cba2e5111cd1ce564d",
       "placeholder": "​",
       "style": "IPY_MODEL_ace832c6d6ac4a34be76b1393b6ee4d5",
       "value": " 6545/6545 [05:31&lt;00:00, 19.79it/s]"
      }
     },
     "9d78754746c24f2c94e8916fe94a0ed8": {
      "model_module": "@jupyter-widgets/controls",
      "model_module_version": "1.5.0",
      "model_name": "FloatProgressModel",
      "state": {
       "_dom_classes": [],
       "_model_module": "@jupyter-widgets/controls",
       "_model_module_version": "1.5.0",
       "_model_name": "FloatProgressModel",
       "_view_count": null,
       "_view_module": "@jupyter-widgets/controls",
       "_view_module_version": "1.5.0",
       "_view_name": "ProgressView",
       "bar_style": "success",
       "description": "",
       "description_tooltip": null,
       "layout": "IPY_MODEL_ac6c41f7fcc14f9f8dd80c10297b7e6c",
       "max": 6545.0,
       "min": 0.0,
       "orientation": "horizontal",
       "style": "IPY_MODEL_e121f6a2d0794c338c9b85b473858f81",
       "value": 6545.0
      }
     },
     "9e3cb63eb253478bb6cb8963a9f29360": {
      "model_module": "@jupyter-widgets/base",
      "model_module_version": "1.2.0",
      "model_name": "LayoutModel",
      "state": {
       "_model_module": "@jupyter-widgets/base",
       "_model_module_version": "1.2.0",
       "_model_name": "LayoutModel",
       "_view_count": null,
       "_view_module": "@jupyter-widgets/base",
       "_view_module_version": "1.2.0",
       "_view_name": "LayoutView",
       "align_content": null,
       "align_items": null,
       "align_self": null,
       "border": null,
       "bottom": null,
       "display": null,
       "flex": null,
       "flex_flow": null,
       "grid_area": null,
       "grid_auto_columns": null,
       "grid_auto_flow": null,
       "grid_auto_rows": null,
       "grid_column": null,
       "grid_gap": null,
       "grid_row": null,
       "grid_template_areas": null,
       "grid_template_columns": null,
       "grid_template_rows": null,
       "height": null,
       "justify_content": null,
       "justify_items": null,
       "left": null,
       "margin": null,
       "max_height": null,
       "max_width": null,
       "min_height": null,
       "min_width": null,
       "object_fit": null,
       "object_position": null,
       "order": null,
       "overflow": null,
       "overflow_x": null,
       "overflow_y": null,
       "padding": null,
       "right": null,
       "top": null,
       "visibility": null,
       "width": null
      }
     },
     "a486e25d2e3a42cba2e5111cd1ce564d": {
      "model_module": "@jupyter-widgets/base",
      "model_module_version": "1.2.0",
      "model_name": "LayoutModel",
      "state": {
       "_model_module": "@jupyter-widgets/base",
       "_model_module_version": "1.2.0",
       "_model_name": "LayoutModel",
       "_view_count": null,
       "_view_module": "@jupyter-widgets/base",
       "_view_module_version": "1.2.0",
       "_view_name": "LayoutView",
       "align_content": null,
       "align_items": null,
       "align_self": null,
       "border": null,
       "bottom": null,
       "display": null,
       "flex": null,
       "flex_flow": null,
       "grid_area": null,
       "grid_auto_columns": null,
       "grid_auto_flow": null,
       "grid_auto_rows": null,
       "grid_column": null,
       "grid_gap": null,
       "grid_row": null,
       "grid_template_areas": null,
       "grid_template_columns": null,
       "grid_template_rows": null,
       "height": null,
       "justify_content": null,
       "justify_items": null,
       "left": null,
       "margin": null,
       "max_height": null,
       "max_width": null,
       "min_height": null,
       "min_width": null,
       "object_fit": null,
       "object_position": null,
       "order": null,
       "overflow": null,
       "overflow_x": null,
       "overflow_y": null,
       "padding": null,
       "right": null,
       "top": null,
       "visibility": null,
       "width": null
      }
     },
     "ac6c41f7fcc14f9f8dd80c10297b7e6c": {
      "model_module": "@jupyter-widgets/base",
      "model_module_version": "1.2.0",
      "model_name": "LayoutModel",
      "state": {
       "_model_module": "@jupyter-widgets/base",
       "_model_module_version": "1.2.0",
       "_model_name": "LayoutModel",
       "_view_count": null,
       "_view_module": "@jupyter-widgets/base",
       "_view_module_version": "1.2.0",
       "_view_name": "LayoutView",
       "align_content": null,
       "align_items": null,
       "align_self": null,
       "border": null,
       "bottom": null,
       "display": null,
       "flex": null,
       "flex_flow": null,
       "grid_area": null,
       "grid_auto_columns": null,
       "grid_auto_flow": null,
       "grid_auto_rows": null,
       "grid_column": null,
       "grid_gap": null,
       "grid_row": null,
       "grid_template_areas": null,
       "grid_template_columns": null,
       "grid_template_rows": null,
       "height": null,
       "justify_content": null,
       "justify_items": null,
       "left": null,
       "margin": null,
       "max_height": null,
       "max_width": null,
       "min_height": null,
       "min_width": null,
       "object_fit": null,
       "object_position": null,
       "order": null,
       "overflow": null,
       "overflow_x": null,
       "overflow_y": null,
       "padding": null,
       "right": null,
       "top": null,
       "visibility": null,
       "width": null
      }
     },
     "ace832c6d6ac4a34be76b1393b6ee4d5": {
      "model_module": "@jupyter-widgets/controls",
      "model_module_version": "1.5.0",
      "model_name": "DescriptionStyleModel",
      "state": {
       "_model_module": "@jupyter-widgets/controls",
       "_model_module_version": "1.5.0",
       "_model_name": "DescriptionStyleModel",
       "_view_count": null,
       "_view_module": "@jupyter-widgets/base",
       "_view_module_version": "1.2.0",
       "_view_name": "StyleView",
       "description_width": ""
      }
     },
     "c2dbb29156f541e4894d498ff1896830": {
      "model_module": "@jupyter-widgets/controls",
      "model_module_version": "1.5.0",
      "model_name": "DescriptionStyleModel",
      "state": {
       "_model_module": "@jupyter-widgets/controls",
       "_model_module_version": "1.5.0",
       "_model_name": "DescriptionStyleModel",
       "_view_count": null,
       "_view_module": "@jupyter-widgets/base",
       "_view_module_version": "1.2.0",
       "_view_name": "StyleView",
       "description_width": ""
      }
     },
     "cbd2189951b24e189eaacf405c7eaaeb": {
      "model_module": "@jupyter-widgets/controls",
      "model_module_version": "1.5.0",
      "model_name": "HTMLModel",
      "state": {
       "_dom_classes": [],
       "_model_module": "@jupyter-widgets/controls",
       "_model_module_version": "1.5.0",
       "_model_name": "HTMLModel",
       "_view_count": null,
       "_view_module": "@jupyter-widgets/controls",
       "_view_module_version": "1.5.0",
       "_view_name": "HTMLView",
       "description": "",
       "description_tooltip": null,
       "layout": "IPY_MODEL_5fd01956601c413e9804460170dcbd6b",
       "placeholder": "​",
       "style": "IPY_MODEL_06a8c456615d4d1abf72871b52220321",
       "value": " 1.22G/1.22G [00:06&lt;00:00, 204MB/s]"
      }
     },
     "ce8b1f61813f4f659ea50beeb4f618da": {
      "model_module": "@jupyter-widgets/controls",
      "model_module_version": "1.5.0",
      "model_name": "FloatProgressModel",
      "state": {
       "_dom_classes": [],
       "_model_module": "@jupyter-widgets/controls",
       "_model_module_version": "1.5.0",
       "_model_name": "FloatProgressModel",
       "_view_count": null,
       "_view_module": "@jupyter-widgets/controls",
       "_view_module_version": "1.5.0",
       "_view_name": "ProgressView",
       "bar_style": "success",
       "description": "",
       "description_tooltip": null,
       "layout": "IPY_MODEL_3635523690554c6eb91ea4858bb8cb36",
       "max": 1216597406.0,
       "min": 0.0,
       "orientation": "horizontal",
       "style": "IPY_MODEL_631b4f5b5af24db0b630eb88231040aa",
       "value": 1216597406.0
      }
     },
     "d48d8709cc45499288e03ec330498ef9": {
      "model_module": "@jupyter-widgets/controls",
      "model_module_version": "1.5.0",
      "model_name": "HTMLModel",
      "state": {
       "_dom_classes": [],
       "_model_module": "@jupyter-widgets/controls",
       "_model_module_version": "1.5.0",
       "_model_name": "HTMLModel",
       "_view_count": null,
       "_view_module": "@jupyter-widgets/controls",
       "_view_module_version": "1.5.0",
       "_view_name": "HTMLView",
       "description": "",
       "description_tooltip": null,
       "layout": "IPY_MODEL_62d5f3124bdd424bb6e63d7fcc6a45f4",
       "placeholder": "​",
       "style": "IPY_MODEL_68afdc0faf794a93b01e5a92f5f44d91",
       "value": "model.safetensors: 100%"
      }
     },
     "e11ddc85891540b7bd5b23deb0bf1203": {
      "model_module": "@jupyter-widgets/controls",
      "model_module_version": "1.5.0",
      "model_name": "HTMLModel",
      "state": {
       "_dom_classes": [],
       "_model_module": "@jupyter-widgets/controls",
       "_model_module_version": "1.5.0",
       "_model_name": "HTMLModel",
       "_view_count": null,
       "_view_module": "@jupyter-widgets/controls",
       "_view_module_version": "1.5.0",
       "_view_name": "HTMLView",
       "description": "",
       "description_tooltip": null,
       "layout": "IPY_MODEL_9e3cb63eb253478bb6cb8963a9f29360",
       "placeholder": "​",
       "style": "IPY_MODEL_c2dbb29156f541e4894d498ff1896830",
       "value": "100%"
      }
     },
     "e121f6a2d0794c338c9b85b473858f81": {
      "model_module": "@jupyter-widgets/controls",
      "model_module_version": "1.5.0",
      "model_name": "ProgressStyleModel",
      "state": {
       "_model_module": "@jupyter-widgets/controls",
       "_model_module_version": "1.5.0",
       "_model_name": "ProgressStyleModel",
       "_view_count": null,
       "_view_module": "@jupyter-widgets/base",
       "_view_module_version": "1.2.0",
       "_view_name": "StyleView",
       "bar_color": null,
       "description_width": ""
      }
     }
    },
    "version_major": 2,
    "version_minor": 0
   }
  }
 },
 "nbformat": 4,
 "nbformat_minor": 5
}
